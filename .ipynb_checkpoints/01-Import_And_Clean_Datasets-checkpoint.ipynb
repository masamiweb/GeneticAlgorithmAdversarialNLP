{
 "cells": [
  {
   "cell_type": "markdown",
   "metadata": {},
   "source": [
    "### The Dataset is stored in the ```dataset``` folder \n",
    "downloaded from ```https://ai.stanford.edu/~amaas/data/sentiment/aclImdb_v1.tar.gz```\n",
    "### The GloVe vector embeddings are in the ```glove``` folder \n",
    "downloaded from ```https://github.com/stanfordnlp/GloVe```\n",
    "### The Counter-Fitted vectors are in the ```counter-fitted``` folder\n",
    "download from ```https://github.com/nmrksic/counter-fitting/blob/master/word_vectors/counter-fitted-vectors.txt.zip```\n",
    "(see referenced paper [20])\n"
   ]
  },
  {
   "cell_type": "markdown",
   "metadata": {},
   "source": [
    "# Import dependecies \n",
    "### Start by importing all the required libraries"
   ]
  },
  {
   "cell_type": "code",
   "execution_count": 1,
   "metadata": {},
   "outputs": [],
   "source": [
    "\"\"\"\n",
    "Python 3.8.5\n",
    "Tensorflow 2.3.1\n",
    "Keras 2.4.3\n",
    "conda 4.9.0\n",
    "wordcloud 1.8.0\n",
    "\"\"\"\n",
    "import configparser\n",
    "import math\n",
    "import datetime\n",
    "import tensorflow as tf\n",
    "import keras\n",
    "# from tensorflow.keras.preprocessing.text import Tokenizer\n",
    "# from tensorflow.keras.preprocessing.sequence import pad_sequences\n",
    "# from keras.preprocessing.text import Tokenizer\n",
    "# from keras.preprocessing.text import text_to_word_sequence\n",
    "from tensorflow.keras import layers\n",
    "from tensorflow.keras.layers import Conv1D, Bidirectional, LSTM, Dense, Input, Dropout, Embedding\n",
    "from tensorflow.keras.layers import SpatialDropout1D\n",
    "from tensorflow.keras.optimizers import Adam\n",
    "from tensorflow.python.keras.callbacks import EarlyStopping\n",
    "from tensorflow.keras.callbacks import ReduceLROnPlateau\n",
    "\n",
    "import matplotlib.pyplot as plt\n",
    "from wordcloud import WordCloud, STOPWORDS, ImageColorGenerator\n",
    "\n",
    "import string # use this to remove punctuation from tweets e.g. string.punctuation\n",
    "import random as rnd\n",
    "import numpy as np\n",
    "import pandas as pd\n",
    "from sklearn.model_selection import train_test_split\n",
    "from sklearn.preprocessing import LabelEncoder\n",
    "\n",
    "import pickle\n",
    "import os\n",
    "import re\n",
    "\n",
    "\"\"\"\n",
    "Which dataset to use:\n",
    "1 = IMDB\n",
    "2 = Sentiment140\n",
    "\"\"\"\n",
    "\n",
    "DATASET = 2\n",
    "\n",
    "\n",
    "\n",
    "############ SENTIMENT MODEL TRAINING PARAMETERS ################################\n",
    "DIMENSION = 300\n",
    "LEARNING_RATE = 1e-4\n",
    "BATCH_SIZE = 64\n",
    "EPOCHS = 40\n",
    "#################################################################################\n",
    "\n",
    "\n",
    "############ DATA SPLIT PERCENTAGE ##############################################\n",
    "TRAINING_SPLIT = 0.80\n",
    "#################################################################################\n",
    "\n",
    "\n",
    "############ DATAFILE IS DOWNLOADED (for fresh download set this to False) ######\n",
    "DATASET_DOWNLOADED = False\n",
    "LOAD_FROM_FILE = True\n",
    "#################################################################################\n",
    "\n",
    "\n",
    "############ NEED TO LIMIT THIS TO 50000 TO ENABLE BUILDING OF DISTANCE MATRIX ##\n",
    "USE_MAX_VOCABULARY_SIZE = False \n",
    "MAX_VOCABULARY_SIZE = 50000\n",
    "#################################################################################"
   ]
  },
  {
   "cell_type": "markdown",
   "metadata": {},
   "source": [
    "### Read and set global variables "
   ]
  },
  {
   "cell_type": "code",
   "execution_count": 2,
   "metadata": {},
   "outputs": [],
   "source": [
    "config = configparser.ConfigParser()\n",
    "config.read('config/main.conf')\n",
    "\n",
    "MODEL_VERSION =  \"0001\"\n",
    "\n",
    "if DATASET == 1:\n",
    "    set_dataset = \"imdb\"\n",
    "if DATASET == 2:\n",
    "    set_dataset = \"s140\"\n",
    "\n",
    "DATASET_URL = (config[set_dataset]['DATASET_URL'])\n",
    "\n",
    "DATASET_FOLDER = config[set_dataset]['DATASET_FOLDER']\n",
    "DATASET_TAR_FILE_NAME = config[set_dataset]['DATASET_TAR_FILE_NAME']\n",
    "DATASET_NAME = config[set_dataset]['DATASET_NAME']\n",
    "\n",
    "MODEL_NAME = config[set_dataset]['MODEL_NAME']\n",
    "\n",
    "CLEAN_DATA_FILE = os.path.join(DATASET_FOLDER,\"normalized_dataset.csv\")\n",
    "TAR_FILE_PATH = os.path.join(DATASET_FOLDER,DATASET_TAR_FILE_NAME)\n",
    "DATA_SET_LOCATION = os.path.join(DATASET_FOLDER,DATASET_NAME)\n",
    "\n",
    "MODEL_SAVE_DIRECTORY = config[set_dataset]['MODEL_SAVE_DIRECTORY']\n",
    "\n",
    "GLOVE_EMBEDDINGS = config[set_dataset]['GLOVE_EMBEDDINGS']\n",
    "\n",
    "GLOVE_EMBEDDINGS_MATRIX = config[set_dataset]['GLOVE_EMBEDDINGS_MATRIX']\n",
    "COUNTER_FITTED_EMBEDDINGS_MATRIX = config[set_dataset]['COUNTER_FITTED_EMBEDDINGS_MATRIX']\n",
    "\n",
    "\n",
    "####### files required to reconstruct the final trained model ##############################\n",
    "MODEL_PATH = os.path.join(MODEL_SAVE_DIRECTORY, MODEL_NAME, MODEL_VERSION)\n",
    "\n",
    "ASSESTS_FOLDER = os.path.join(MODEL_PATH,\"assets\")\n",
    "MODEL_ASSETS_VOCABULARY_FILE = os.path.join(ASSESTS_FOLDER,\"vocab\")\n",
    "MODEL_ASSETS_EMBEDDINGS_FILE = os.path.join(ASSESTS_FOLDER,\"imdb_glove_embeddings_matrix\")\n",
    "MODEL_BEST_WEIGHTS = os.path.join(ASSESTS_FOLDER, \"cp.ckpt\")\n",
    "MODEL_TRAINING_HISORTY_FILE = os.path.join(ASSESTS_FOLDER, \"training_history.csv\")\n",
    "#print(MODEL_BEST_WEIGHTS)\n",
    "\n"
   ]
  },
  {
   "cell_type": "code",
   "execution_count": 3,
   "metadata": {},
   "outputs": [],
   "source": [
    "version_number = []\n",
    "\n",
    "if os.path.exists(os.path.join(MODEL_SAVE_DIRECTORY,MODEL_NAME)):\n",
    "    \n",
    "    for entry in os.listdir(os.path.join(MODEL_SAVE_DIRECTORY,MODEL_NAME)):\n",
    "        version_number.append(entry)\n",
    "        \n",
    "    # increment version number if we have a previous model already saved\n",
    "    if len(version_number):\n",
    "        MODEL_VERSION = ((str)(int(version_number[-1]) + 1)).zfill(4)\n"
   ]
  },
  {
   "cell_type": "markdown",
   "metadata": {},
   "source": [
    "### Create the model save directory"
   ]
  },
  {
   "cell_type": "code",
   "execution_count": 4,
   "metadata": {},
   "outputs": [],
   "source": [
    "\n",
    "if not os.path.exists(MODEL_SAVE_DIRECTORY):\n",
    "    os.makedirs(MODEL_SAVE_DIRECTORY)\n",
    "    \n"
   ]
  },
  {
   "cell_type": "markdown",
   "metadata": {},
   "source": [
    "# Download the dataset and extract contents to correct directories"
   ]
  },
  {
   "cell_type": "code",
   "execution_count": 6,
   "metadata": {},
   "outputs": [
    {
     "name": "stdout",
     "output_type": "stream",
     "text": [
      "If you want to download a fresh copy of the data set,\n",
      "make sure the variable DATASET_DOWNLOADED is set to False\n"
     ]
    }
   ],
   "source": [
    "from manny_train import file_download_extraction as fde\n",
    "\n",
    "\n",
    "from_folder =\"\"\n",
    "to_folder = DATA_SET_LOCATION \n",
    "\n",
    "if DATASET_DOWNLOADED:\n",
    "    print(\"If you want to download a fresh copy of the data set,\")\n",
    "    print(\"make sure the variable DATASET_DOWNLOADED is set to False\")\n",
    "elif DATASET == 1:\n",
    "    DATASET_DOWNLOADED = True\n",
    "    fde.download(DATASET_URL, dest_folder=DATASET_FOLDER)\n",
    "    fde.extract_tar_file(TAR_FILE_PATH, DATASET_FOLDER)\n",
    "    directories_in_dataset_folder = fde.get_directory_name(DATASET_FOLDER)\n",
    "\n",
    "    if len(directories_in_dataset_folder) == 1:\n",
    "        from_folder=DATASET_FOLDER+\"/\"+directories_in_dataset_folder[0]\n",
    "        fde.rename_folder(from_folder, to_folder)\n",
    "        print(\"Done!\")\n",
    "    else:\n",
    "        print(\"ERROR!\")\n",
    "        print(DATASET_FOLDER,\" folder has too many sub directories!\")\n",
    "        print(\"Make sure \", DATASET_FOLDER, \" is empty before downloading fresh dataset file\")\n",
    "elif DATASET == 2:\n",
    "    DATASET_DOWNLOADED = True\n",
    "    fde.download(DATASET_URL, dest_folder=DATASET_FOLDER)\n",
    "    fde.extract_zip_file(TAR_FILE_PATH, DATASET_FOLDER)\n",
    "    fde.rename_s140_file(DATASET_FOLDER)\n",
    "    \n"
   ]
  },
  {
   "cell_type": "markdown",
   "metadata": {},
   "source": [
    "\n",
    "# Load dataset:\n",
    "## We have 2 options: \n",
    "#### 1) Load data from a fresh download, or\n",
    "#### 2) Load a previously saved dataset \n"
   ]
  },
  {
   "cell_type": "markdown",
   "metadata": {},
   "source": [
    "## 1) Load data from a fresh download"
   ]
  },
  {
   "cell_type": "code",
   "execution_count": 13,
   "metadata": {},
   "outputs": [
    {
     "name": "stdout",
     "output_type": "stream",
     "text": [
      "Creating dataset, please wait ...\n",
      "Normalizing dataset, please wait...\n",
      "Dataset created!\n",
      "\n",
      "Saved dataset to:  s140_dataset/normalized_dataset.csv\n"
     ]
    },
    {
     "data": {
      "text/html": [
       "<div>\n",
       "<style scoped>\n",
       "    .dataframe tbody tr th:only-of-type {\n",
       "        vertical-align: middle;\n",
       "    }\n",
       "\n",
       "    .dataframe tbody tr th {\n",
       "        vertical-align: top;\n",
       "    }\n",
       "\n",
       "    .dataframe thead th {\n",
       "        text-align: right;\n",
       "    }\n",
       "</style>\n",
       "<table border=\"1\" class=\"dataframe\">\n",
       "  <thead>\n",
       "    <tr style=\"text-align: right;\">\n",
       "      <th></th>\n",
       "      <th>sentiment</th>\n",
       "      <th>text</th>\n",
       "    </tr>\n",
       "  </thead>\n",
       "  <tbody>\n",
       "    <tr>\n",
       "      <th>1427435</th>\n",
       "      <td>1</td>\n",
       "      <td>i wish  or i would be buying or lol  you'd ma...</td>\n",
       "    </tr>\n",
       "    <tr>\n",
       "      <th>1101080</th>\n",
       "      <td>1</td>\n",
       "      <td>i hate you right now</td>\n",
       "    </tr>\n",
       "    <tr>\n",
       "      <th>1085676</th>\n",
       "      <td>1</td>\n",
       "      <td>up to no good as always</td>\n",
       "    </tr>\n",
       "    <tr>\n",
       "      <th>1025165</th>\n",
       "      <td>1</td>\n",
       "      <td>means so much chris  thanks</td>\n",
       "    </tr>\n",
       "    <tr>\n",
       "      <th>760122</th>\n",
       "      <td>0</td>\n",
       "      <td>winter classes early empire  pop culture  peop...</td>\n",
       "    </tr>\n",
       "  </tbody>\n",
       "</table>\n",
       "</div>"
      ],
      "text/plain": [
       "         sentiment                                               text\n",
       "1427435          1   i wish  or i would be buying or lol  you'd ma...\n",
       "1101080          1                               i hate you right now\n",
       "1085676          1                            up to no good as always\n",
       "1025165          1                       means so much chris  thanks \n",
       "760122           0  winter classes early empire  pop culture  peop..."
      ]
     },
     "execution_count": 13,
     "metadata": {},
     "output_type": "execute_result"
    }
   ],
   "source": [
    "from manny_train import data_loading as process\n",
    "\n",
    "data_frame = pd.DataFrame\n",
    "if DATASET == 1:\n",
    "    data_frame  = process.process_dataset_IMDB(DATA_SET_LOCATION)\n",
    "elif DATASET == 2:\n",
    "    data_frame = process.process_dataset_Sentiment140(os.path.join(DATASET_FOLDER,'train.csv'))\n",
    "else:\n",
    "    print(\"Please specify which dataset you want to work with...\")\n",
    "\n",
    "# save the cleaned dataset\n",
    "\n",
    "data_frame.to_csv(CLEAN_DATA_FILE, index = False)\n",
    "print(\"Saved dataset to: \", CLEAN_DATA_FILE)\n",
    "    \n",
    "# randomise dataframe\n",
    "data_frame = data_frame.sample(frac = 1, random_state = 7) \n",
    "\n",
    "# show the first few rows of the datasaet\n",
    "data_frame.head()\n"
   ]
  },
  {
   "cell_type": "markdown",
   "metadata": {},
   "source": [
    "## 2) Load a previously saved dataset"
   ]
  },
  {
   "cell_type": "code",
   "execution_count": 29,
   "metadata": {},
   "outputs": [],
   "source": [
    "# load the clean dataset from .csv file\n",
    "dtypes = {'sentiment': 'int', 'text': 'str'}\n",
    "data_frame = pd.read_csv(CLEAN_DATA_FILE,dtype=dtypes) \n",
    "\n",
    "#drop and Nan rows\n",
    "data_frame = data_frame.dropna() \n",
    "\n",
    "# randomise dataframe\n",
    "data_frame = data_frame.sample(frac = 1, random_state = 7) "
   ]
  },
  {
   "cell_type": "markdown",
   "metadata": {},
   "source": [
    "### Split the dataset into train and test, then convert each to a Keras Dataset format"
   ]
  },
  {
   "cell_type": "code",
   "execution_count": 31,
   "metadata": {},
   "outputs": [],
   "source": [
    "\n",
    "# split into test and train datsets\n",
    "train_data_raw, test_data_raw = train_test_split(data_frame, test_size= (1 - TRAINING_SPLIT), random_state = 7)\n",
    "\n",
    "\n",
    "# convert to keras Dataset (TensorSliceDataset) \n",
    "train_data = (\n",
    "    tf.data.Dataset.from_tensor_slices(\n",
    "        (\n",
    "            tf.cast(train_data_raw['text'].values, tf.string),\n",
    "            tf.cast(train_data_raw['sentiment'].values, tf.int64)\n",
    "        )\n",
    "    )\n",
    ")\n",
    "\n",
    "test_data = (\n",
    "    tf.data.Dataset.from_tensor_slices(\n",
    "        (\n",
    "            tf.cast(test_data_raw['text'].values, tf.string),\n",
    "            tf.cast(test_data_raw['sentiment'].values, tf.int64)\n",
    "        )\n",
    "    )\n",
    ")\n",
    "\n",
    "# for creating vocabulary, we just need the string, so discard the sentiment value \n",
    "text_dataset =  train_data.map(lambda string_text, sentiment: string_text)\n"
   ]
  },
  {
   "cell_type": "markdown",
   "metadata": {},
   "source": [
    "## Plot the data\n",
    "#### We see that we have 2 types of sentiments, ```0 = negative``` and ```1 = positive```. We have 25,000 data points for each type of sentiment"
   ]
  },
  {
   "cell_type": "code",
   "execution_count": 32,
   "metadata": {},
   "outputs": [
    {
     "data": {
      "text/plain": [
       "Text(0.5, 1.0, 'Sentiment Distribution')"
      ]
     },
     "execution_count": 32,
     "metadata": {},
     "output_type": "execute_result"
    },
    {
     "data": {
      "image/png": "[encoded data removed]",
      "text/plain": [
       "<Figure size 576x288 with 1 Axes>"
      ]
     },
     "metadata": {
      "needs_background": "light"
     },
     "output_type": "display_data"
    }
   ],
   "source": [
    "val_count = data_frame.sentiment.value_counts()\n",
    "\n",
    "plt.figure(figsize=(8,4))\n",
    "plt.bar(val_count.index, val_count.values)\n",
    "plt.xticks(val_count.index)\n",
    "plt.title(\"Sentiment Distribution\")"
   ]
  },
  {
   "cell_type": "markdown",
   "metadata": {},
   "source": [
    "### Clean dataset: this is the pre-processing callback function used by ```TextVectorization```"
   ]
  },
  {
   "cell_type": "markdown",
   "metadata": {},
   "source": [
    "## Wordcloud of ```positive``` sentiments"
   ]
  },
  {
   "cell_type": "code",
   "execution_count": null,
   "metadata": {},
   "outputs": [],
   "source": [
    "# add aditional stopwords\n",
    "STOPWORDS.add(\"film\")\n",
    "STOPWORDS.add(\"movie\")\n",
    "STOPWORDS.add(\"one\")\n",
    "STOPWORDS.add(\"see\")\n",
    "STOPWORDS.add(\"make\")\n",
    "STOPWORDS.add(\"time\")\n",
    "STOPWORDS.add(\"even\")\n",
    "STOPWORDS.add(\"really\")\n",
    "STOPWORDS.add(\"character\")\n",
    "\n",
    "\n",
    "plt.figure(figsize = (20,20)) \n",
    "wc = WordCloud(stopwords = STOPWORDS, width = 1600 , height = 800).generate(\" \".join(data_frame[data_frame.sentiment == 1].text))\n",
    "plt.imshow(wc , interpolation = 'bilinear')\n",
    "plt.axis(\"off\")\n",
    "plt.show()"
   ]
  },
  {
   "cell_type": "markdown",
   "metadata": {},
   "source": [
    "## Wordcloud of ```negative``` sentiments"
   ]
  },
  {
   "cell_type": "code",
   "execution_count": null,
   "metadata": {},
   "outputs": [],
   "source": [
    "plt.figure(figsize = (20,20)) \n",
    "wc = WordCloud(stopwords = STOPWORDS, width = 1600 , height = 800).generate(\" \".join(data_frame[data_frame.sentiment == 0].text))\n",
    "plt.imshow(wc , interpolation = 'bilinear')\n",
    "plt.axis(\"off\")\n",
    "plt.show()"
   ]
  },
  {
   "cell_type": "code",
   "execution_count": 13,
   "metadata": {},
   "outputs": [],
   "source": [
    "import string\n",
    "\n",
    "@tf.keras.utils.register_keras_serializable(package='Custom', name='normlize_data')\n",
    "def normlize_data(text):\n",
    "    \n",
    "    # define regex to use for replacements\n",
    "    html_regex = '<.*?>|&([a-z0-9]+|#[0-9]{1,6}|#x[0-9a-f]{1,6});' # remove all html tags\n",
    "    url_regex = 'https?:\\/\\/\\S+\\b|www\\.(\\w+\\.)+\\S*'\n",
    "    twitter_username_regex = \"@\\w+\" # twitter username\n",
    "    html_amp_start_regex = \"&\\w+\"  # remove html entities starting with a &\n",
    "    smiley_regex = \"[8:=;]['`\\-]?[)dD]+|[)dD]+['`\\-]?[8:=;]\"\n",
    "    lol_face_regex = \"[8:=;]['`\\-]?p+\"\n",
    "    sad_face_regex = \"[8:=;]['`\\-]?\\(+|\\)+['`\\-]?[8:=;]\"\n",
    "    neutral_face_regex = \"[8:=;]['`\\-]?[\\/|l*]\"\n",
    "    forward_slash_regex = \"/\" # add space around forward slash\n",
    "    heart_regex = \"<3\" # heart emoji\n",
    "    numbers_regex = \"[-+]?[.\\d]*[\\d]+[:,.\\d]*\" # remove numbers with signs e.g. -2, +3 etc..\n",
    "    hash_tag_regex = \"#\\w+\"\n",
    "    repeated_punctuation_regex = \"([!?.]){2,}\" # e.g. replace ?????? to ?\n",
    "    remove_numbers_regex = '[0-9]+' # remove all numbers\n",
    " \n",
    "    # remove punctuation\n",
    "    punctuation = string.punctuation\n",
    "    punctuation = punctuation.translate({ord(i):None for i in \"'\"}) # keep the apostrophe, but remove all other punctuation\n",
    "    remove_punctuation = f'[{re.escape(punctuation)}]'\n",
    "    \n",
    "    result = tf.strings.lower(text)\n",
    "    result = tf.strings.strip(result) # remove leading and trailing spaces\n",
    "     \n",
    "    # make sure to remove html tags second\n",
    "    result = tf.strings.regex_replace(result, html_regex, '')\n",
    "     \n",
    "    # remove any URLs\n",
    "    result = tf.strings.regex_replace(result, url_regex, ' ') # url \n",
    "    result = tf.strings.regex_replace(result, twitter_username_regex, ' ') # twitetr user names \n",
    "    result = tf.strings.regex_replace(result, html_amp_start_regex, ' ') # any html entity that starts with an &\n",
    "    result = tf.strings.regex_replace(result, smiley_regex, ' ') # remove any smilies/emojis in the text\n",
    "    result = tf.strings.regex_replace(result, lol_face_regex, ' ') # lolface emoji\n",
    "    result = tf.strings.regex_replace(result, sad_face_regex, ' ') # sad face emoji\n",
    "    result = tf.strings.regex_replace(result, neutral_face_regex, ' ') # face emoji\n",
    "    result = tf.strings.regex_replace(result, forward_slash_regex, r' / ') # add space around forward slash\n",
    "    result = tf.strings.regex_replace(result, heart_regex, ' ') # remove heart emoji\n",
    "    result = tf.strings.regex_replace(result, numbers_regex, ' ') # remove numbers e.g. -3, 2, 8, +8 etc..\n",
    "    result = tf.strings.regex_replace(result, hash_tag_regex, ' ') # remove hashtags\n",
    "    result = tf.strings.regex_replace(result, repeated_punctuation_regex, r'\\1 ') # replace any repeated puctuation with single occurance\n",
    "    result = tf.strings.regex_replace(result, remove_numbers_regex, ' ') # finally remove all numbers\n",
    "    \n",
    "    # then remove punctuation at the very end\n",
    "    result = tf.strings.regex_replace(result, remove_punctuation, '')\n",
    "    \n",
    "    #result = tf.strings.strip(result)\n",
    "    \n",
    "    # print(\"Done!\")\n",
    "    return result\n",
    "\n"
   ]
  },
  {
   "cell_type": "code",
   "execution_count": 14,
   "metadata": {},
   "outputs": [
    {
     "name": "stdout",
     "output_type": "stream",
     "text": [
      "Training Data:\t 40000 \t\t% datapoints in train dataset:\t 80 %\n",
      "Test Data:\t 10000 \t\t% datapoints in test dataset:\t 20 %\n"
     ]
    }
   ],
   "source": [
    "print(\"Training Data:\\t\",len(train_data), \"\\t\\t% datapoints in train dataset:\\t\", math.ceil(TRAINING_SPLIT * 100),\"%\")\n",
    "print(\"Test Data:\\t\",len(test_data), \"\\t\\t% datapoints in test dataset:\\t\", math.ceil((1 - TRAINING_SPLIT) * 100) ,\"%\")\n"
   ]
  },
  {
   "cell_type": "markdown",
   "metadata": {},
   "source": [
    "## Examine the training and test data sets"
   ]
  },
  {
   "cell_type": "markdown",
   "metadata": {},
   "source": [
    "### Training dataset"
   ]
  },
  {
   "cell_type": "code",
   "execution_count": 15,
   "metadata": {},
   "outputs": [
    {
     "name": "stdout",
     "output_type": "stream",
     "text": [
      "Number of data points:  40000\n"
     ]
    },
    {
     "data": {
      "text/plain": [
       "[(<tf.Tensor: shape=(), dtype=string, numpy=b\"although the recent retelling of part of homer's epic troy with brad pitt was entertaining once  iphigenia with the incandescent irene pappas is breathtaking  unfolding in a natural setting with greek actors speaking their own language lends such authenticity  a chance encounter with this film on one of directv's many movie channels kept me interested in spite of my concentration problems  there is no glitter or bling in this movie  just a fabulously rich story impeccably told by actors so real one feels they are eavesdropping on a real family in turmoil  i think even homer  if he really existed  would be proud of this telling jlh\">,\n",
       "  <tf.Tensor: shape=(), dtype=int64, numpy=1>)]"
      ]
     },
     "execution_count": 15,
     "metadata": {},
     "output_type": "execute_result"
    }
   ],
   "source": [
    "print(\"Number of data points: \",len(train_data))\n",
    "[t for t in train_data.take(1)]"
   ]
  },
  {
   "cell_type": "markdown",
   "metadata": {},
   "source": [
    "### Testing dataset"
   ]
  },
  {
   "cell_type": "code",
   "execution_count": 16,
   "metadata": {},
   "outputs": [
    {
     "name": "stdout",
     "output_type": "stream",
     "text": [
      "Number of data points:  10000\n"
     ]
    },
    {
     "data": {
      "text/plain": [
       "[(<tf.Tensor: shape=(), dtype=string, numpy=b\"this is a gem of a movie not just for people who like fun and quirky premises  but who love the history and traditions of scifi and classic hollywood movies  each alien of the martian crew is the embodiment of a classic scifi character or member of hollywood royalty and it's pure pleasure watching them bounce of each other and the residents of big bean \">,\n",
       "  <tf.Tensor: shape=(), dtype=int64, numpy=1>)]"
      ]
     },
     "execution_count": 16,
     "metadata": {},
     "output_type": "execute_result"
    }
   ],
   "source": [
    "print(\"Number of data points: \",len(test_data))\n",
    "[t for t in test_data.take(1)]"
   ]
  },
  {
   "cell_type": "markdown",
   "metadata": {},
   "source": [
    "# Tokenization of training data\n",
    "- We will use the new ```TextVectorization``` Keras class to tokenize our training data\n",
    "- ```max_tokens``` i.e. limit vocabulary to this size \n",
    "- ```output_sequence_length``` i.e. limit length of text sequence\n",
    "\n",
    "<center>\n",
    "<img src=\"images/tokenization-manning.png\">\n",
    "</center>\n",
    "  \n",
    "<center><strong>Francois Chollet. 2017. Deep Learning with Python (1st. ed.). Manning Publications Co., USA.</strong></center>\n",
    "    \n",
    "\n",
    "\n",
    "#### We will use ```TextVectorization``` to index the vocabulary found in the dataset. Later, we'll use the same layer instance to vectorize the samples.\n",
    "\n",
    "#### 1) Our layer will only consider the top $ 50,000 $ words\n",
    "#### 2) we will truncate or pad sequences to be actually $ 300 $ tokens long\n",
    "#### 3) we will pre-process our text data by defining a callback function: ```normalize_data```"
   ]
  },
  {
   "cell_type": "code",
   "execution_count": 17,
   "metadata": {},
   "outputs": [],
   "source": [
    "from tensorflow.keras.layers.experimental.preprocessing import TextVectorization \n",
    "\n",
    "vectorizer = TextVectorization(\n",
    "    standardize=normlize_data, \n",
    "    max_tokens=50000, \n",
    "    output_mode='int',\n",
    "    output_sequence_length=300)\n",
    "\n",
    "# build vocabulary, will also run the normalize_data() function \n",
    "vectorizer.adapt(text_dataset)\n",
    "\n"
   ]
  },
  {
   "cell_type": "markdown",
   "metadata": {},
   "source": [
    "## Create a dictionary, mapping words to their indices\n",
    "#### Store vocabulary in a list ```vocab```, and reverse lookup in a dictionary ```word_index```"
   ]
  },
  {
   "cell_type": "code",
   "execution_count": 18,
   "metadata": {},
   "outputs": [
    {
     "name": "stdout",
     "output_type": "stream",
     "text": [
      "length of vocab: 50000, length of word_index:  50000\n"
     ]
    }
   ],
   "source": [
    "\n",
    "vocab = vectorizer.get_vocabulary()\n",
    "word_index = dict(zip(vocab, range(len(vocab))))\n",
    "\n",
    "print(\"length of vocab: %d, length of word_index:  %d\" % (len(vocab),len(word_index)))\n",
    "\n",
    "\n"
   ]
  },
  {
   "cell_type": "markdown",
   "metadata": {},
   "source": [
    "### Lookup word using the vocabulary list and word_index"
   ]
  },
  {
   "cell_type": "code",
   "execution_count": 19,
   "metadata": {},
   "outputs": [
    {
     "name": "stdout",
     "output_type": "stream",
     "text": [
      "value of index_of_word is:  17\n",
      "Word in vocab at index: 17  is: movie\n"
     ]
    },
    {
     "data": {
      "text/plain": [
       "[2, 1241, 1699, 20, 2, 11603]"
      ]
     },
     "execution_count": 19,
     "metadata": {},
     "output_type": "execute_result"
    }
   ],
   "source": [
    "index_of_word = word_index['movie']\n",
    "print(\"value of index_of_word is: \",index_of_word)\n",
    "\n",
    "word_in_vocab = vocab[index_of_word]\n",
    "print(\"Word in vocab at index:\",index_of_word, \" is:\", word_in_vocab)\n",
    "\n",
    "\n",
    "test = [\"the\", \"cat\", \"sat\", \"on\", \"the\", \"mat\"]\n",
    "[word_index[w] for w in test]"
   ]
  },
  {
   "cell_type": "markdown",
   "metadata": {},
   "source": [
    "### Display the top 5 most frquent words"
   ]
  },
  {
   "cell_type": "code",
   "execution_count": 20,
   "metadata": {},
   "outputs": [
    {
     "data": {
      "text/plain": [
       "['', '[UNK]', 'the', 'and', 'a']"
      ]
     },
     "execution_count": 20,
     "metadata": {},
     "output_type": "execute_result"
    }
   ],
   "source": [
    "vectorizer.get_vocabulary()[:5] # index 0 reserved for padding token and index 1 is reserved for out of vocabulary (UNK) words"
   ]
  },
  {
   "cell_type": "markdown",
   "metadata": {},
   "source": [
    "### Example vectorized sentence:\n",
    "#### the word ```ghjghj``` is out of vocaabulary (oov) and hence coded as 1 i.e. 'UNK'"
   ]
  },
  {
   "cell_type": "code",
   "execution_count": 21,
   "metadata": {},
   "outputs": [
    {
     "data": {
      "text/plain": [
       "array([   2, 6132, 4934,  127,    2, 1815,    1])"
      ]
     },
     "execution_count": 21,
     "metadata": {},
     "output_type": "execute_result"
    }
   ],
   "source": [
    "\n",
    "vectorizer([['the cow jumped over the moon ghjghj']]).numpy()[0, :7]\n"
   ]
  },
  {
   "cell_type": "markdown",
   "metadata": {},
   "source": [
    "## Load pre-trained word GloVe embeddings"
   ]
  },
  {
   "cell_type": "markdown",
   "metadata": {},
   "source": [
    "#### Create a dict mapping words (strings) to their NumPy vector representation"
   ]
  },
  {
   "cell_type": "code",
   "execution_count": 22,
   "metadata": {},
   "outputs": [
    {
     "name": "stdout",
     "output_type": "stream",
     "text": [
      "Loading embeddings model to dictionary, please wait...\n",
      "Finished!\n",
      "Found 2196007 word vectors in model.\n"
     ]
    }
   ],
   "source": [
    "\n",
    "embeddings_index= {}\n",
    "print(\"Loading embeddings model to dictionary, please wait...\")\n",
    "with open(GLOVE_EMBEDDINGS, 'r', encoding=\"utf8\") as f:\n",
    "    for line in f:\n",
    "        values = line.strip().split(' ')\n",
    "        word = values[0]\n",
    "        coefs = np.asarray(values[1:], dtype='float32')\n",
    "        embeddings_index[word] = coefs\n",
    "print(\"Finished!\")\n",
    "print('Found %s word vectors in model.' %len(embeddings_index))\n"
   ]
  },
  {
   "cell_type": "markdown",
   "metadata": {},
   "source": [
    "#### Now prepare a corresponding embedding matrix that we can use in a Keras ```Embedding``` layer"
   ]
  },
  {
   "cell_type": "code",
   "execution_count": 27,
   "metadata": {},
   "outputs": [
    {
     "name": "stdout",
     "output_type": "stream",
     "text": [
      "Converted 41834 words (8166 not found)\n",
      "Embedding matrix shape:  (50001, 300)\n"
     ]
    }
   ],
   "source": [
    "num_tokens = len(vocab) + 1\n",
    "embedding_dim = 300\n",
    "words_found = 0\n",
    "words_not_found = 0\n",
    "\n",
    "\n",
    "embedding_matrix = np.zeros((num_tokens, embedding_dim))\n",
    "count = 0\n",
    "for word, i in word_index.items():\n",
    "    embedding_vector = embeddings_index.get(word) \n",
    "    if embedding_vector is not None:\n",
    "        \n",
    "        # Words not found in embedding index will be all-zeros.\n",
    "        # This includes the representation for \"padding\" and \"OOV\"\n",
    "        embedding_matrix[i] = embedding_vector\n",
    "        words_found += 1\n",
    "    else:\n",
    "        words_not_found += 1\n",
    "print(\"Converted %d words (%d not found)\" % (words_found, words_not_found))\n",
    "print(\"Embedding matrix shape: \",  (embedding_matrix.shape))"
   ]
  },
  {
   "cell_type": "markdown",
   "metadata": {},
   "source": [
    "## Build our model\n",
    "#### Load our pre-trained GloVe embeddings into an ```Embedding``` layer (set ```training=False``` so to keep the embeddings fixed i.e. we do NOT want them to update during training)\n"
   ]
  },
  {
   "cell_type": "code",
   "execution_count": 29,
   "metadata": {},
   "outputs": [],
   "source": [
    "from tensorflow.keras.layers import Embedding\n",
    "\n",
    "\n",
    "def create_model(vectorizer, embedding_matrix, vocab):\n",
    "    \n",
    "    num_tokens = len(vocab) + 1\n",
    "    embedding_dim = 300\n",
    "    hits = 0\n",
    "    misses = 0\n",
    "    \n",
    "    embedding_layer = Embedding(\n",
    "    num_tokens,\n",
    "    embedding_dim,\n",
    "    embeddings_initializer=keras.initializers.Constant(embedding_matrix),\n",
    "    trainable=False,\n",
    "    mask_zero=True\n",
    "    )\n",
    "    \n",
    "    \n",
    "    # activation changed from tanh to relu\n",
    "    # make sure to add the shape parameter (the length of the sequences), otherwise the loss and val_loss wont be calculated and will show as NaN\n",
    "    inputs = keras.Input(shape=(1,), dtype=tf.string)\n",
    "    x = vectorizer(inputs)\n",
    "    embedding_sequences = embedding_layer(x)\n",
    "\n",
    "    x = SpatialDropout1D(0.2)(embedding_sequences)\n",
    "    x = Conv1D(64, 5, activation='relu')(x)\n",
    "    x = Bidirectional(LSTM(128, dropout=0.2))(x)\n",
    "    x = Dense(512, activation='relu')(x)\n",
    "    x = Dropout(0.5)(x)  # set dropout rate to 0.5 to prevent over-fitting\n",
    "    x = Dense(512, activation='relu')(x)\n",
    "\n",
    "    predictions = Dense(1, activation='sigmoid')(x)\n",
    "    model =  keras.Model(inputs, predictions)\n",
    "\n",
    "    # default learning rate is 0.001 for Adam optimizer\n",
    "    model.compile(\n",
    "        loss=\"binary_crossentropy\", optimizer=Adam(LEARNING_RATE), metrics=[\"acc\"]\n",
    "    )\n",
    "    return model\n",
    "\n",
    "\n",
    "\n",
    "\n",
    "\n",
    "# def create_model():\n",
    "    \n",
    "#     model = tf.keras.models.Sequential()\n",
    "#     model.add(tf.keras.Input(shape=(1,), dtype=tf.string))\n",
    "#     model.add(vectorizer) # use vovaculary as layer in model\n",
    "#     model.add(tf.keras.layers.Embedding(num_tokens,\n",
    "#                                         embedding_dim,\n",
    "#                                         embeddings_initializer=keras.initializers.Constant(embedding_matrix),\n",
    "#                                         trainable=False, # we don't want weights to update during training\n",
    "#                                         mask_zero=True))\n",
    "    \n",
    "#     model.add(tf.keras.layers.SpatialDropout1D(0.2))\n",
    "#     model.add(tf.keras.layers.Conv1D(64, 5, activation='relu'))\n",
    "#     model.add(tf.keras.layers.Bidirectional(LSTM(128, dropout=0.2)))\n",
    "#     model.add(tf.keras.layers.Dense(512, activation='relu'))\n",
    "#     model.add(tf.keras.layers.Dropout(0.5)) # set dropout rate to 0.5 to prevent over-fitting\n",
    "#     model.add(tf.keras.layers.Dense(512, activation='relu'))\n",
    "\n",
    "#     # classification layer\n",
    "#     model.add(tf.keras.layers.Dense(1, activation='sigmoid'))\n",
    "   \n",
    "\n",
    "#     # default learning rate is 0.001 for Adam optimizer, reduced to 1e-4 here\n",
    "#     model.compile(\n",
    "#         loss=\"binary_crossentropy\", optimizer=Adam(LEARNING_RATE), metrics=[\"acc\"]\n",
    "#     )\n",
    "#     return model\n",
    "\n",
    "\n",
    "\n",
    "\n"
   ]
  },
  {
   "cell_type": "markdown",
   "metadata": {},
   "source": [
    "## Create and compile the model, then show a summary of it"
   ]
  },
  {
   "cell_type": "code",
   "execution_count": 30,
   "metadata": {},
   "outputs": [
    {
     "name": "stdout",
     "output_type": "stream",
     "text": [
      "Model: \"functional_3\"\n",
      "_________________________________________________________________\n",
      "Layer (type)                 Output Shape              Param #   \n",
      "=================================================================\n",
      "input_2 (InputLayer)         [(None, 1)]               0         \n",
      "_________________________________________________________________\n",
      "text_vectorization (TextVect (None, 300)               0         \n",
      "_________________________________________________________________\n",
      "embedding_1 (Embedding)      (None, 300, 300)          15000300  \n",
      "_________________________________________________________________\n",
      "spatial_dropout1d_1 (Spatial (None, 300, 300)          0         \n",
      "_________________________________________________________________\n",
      "conv1d_1 (Conv1D)            (None, 296, 64)           96064     \n",
      "_________________________________________________________________\n",
      "bidirectional_1 (Bidirection (None, 256)               197632    \n",
      "_________________________________________________________________\n",
      "dense_3 (Dense)              (None, 512)               131584    \n",
      "_________________________________________________________________\n",
      "dropout_1 (Dropout)          (None, 512)               0         \n",
      "_________________________________________________________________\n",
      "dense_4 (Dense)              (None, 512)               262656    \n",
      "_________________________________________________________________\n",
      "dense_5 (Dense)              (None, 1)                 513       \n",
      "=================================================================\n",
      "Total params: 15,688,749\n",
      "Trainable params: 688,449\n",
      "Non-trainable params: 15,000,300\n",
      "_________________________________________________________________\n"
     ]
    }
   ],
   "source": [
    "model = create_model(vectorizer, embedding_matrix, vocab)\n",
    "model.summary()"
   ]
  },
  {
   "cell_type": "markdown",
   "metadata": {},
   "source": [
    "## Train our model"
   ]
  },
  {
   "cell_type": "markdown",
   "metadata": {},
   "source": [
    "#### Convert our list of strings data to a NumPy arrays of integer indices (arrays are right padded)"
   ]
  },
  {
   "cell_type": "markdown",
   "metadata": {},
   "source": [
    "#### We will use ```binary_crossentropy``` since we have only two possible classifications"
   ]
  },
  {
   "cell_type": "code",
   "execution_count": 31,
   "metadata": {},
   "outputs": [
    {
     "name": "stdout",
     "output_type": "stream",
     "text": [
      "Training on GPU...\n",
      "Epoch 1/40\n",
      "625/625 [==============================] - ETA: 0s - loss: 0.5487 - acc: 0.7172\n",
      "Epoch 00001: val_acc improved from -inf to 0.82770, saving model to ../models/imdb/imdb_sentiment/0001/assets/cp.ckpt\n",
      "625/625 [==============================] - 41s 66ms/step - loss: 0.5487 - acc: 0.7172 - val_loss: 0.4119 - val_acc: 0.8277\n",
      "Epoch 2/40\n",
      "625/625 [==============================] - ETA: 0s - loss: 0.4335 - acc: 0.8077\n",
      "Epoch 00002: val_acc improved from 0.82770 to 0.83920, saving model to ../models/imdb/imdb_sentiment/0001/assets/cp.ckpt\n",
      "625/625 [==============================] - 40s 65ms/step - loss: 0.4335 - acc: 0.8077 - val_loss: 0.3641 - val_acc: 0.8392\n",
      "Epoch 3/40\n",
      "625/625 [==============================] - ETA: 0s - loss: 0.3923 - acc: 0.8290\n",
      "Epoch 00003: val_acc improved from 0.83920 to 0.85880, saving model to ../models/imdb/imdb_sentiment/0001/assets/cp.ckpt\n",
      "625/625 [==============================] - 40s 65ms/step - loss: 0.3923 - acc: 0.8290 - val_loss: 0.3344 - val_acc: 0.8588\n",
      "Epoch 4/40\n",
      "625/625 [==============================] - ETA: 0s - loss: 0.3688 - acc: 0.8413\n",
      "Epoch 00004: val_acc improved from 0.85880 to 0.86570, saving model to ../models/imdb/imdb_sentiment/0001/assets/cp.ckpt\n",
      "625/625 [==============================] - 40s 64ms/step - loss: 0.3688 - acc: 0.8413 - val_loss: 0.3258 - val_acc: 0.8657\n",
      "Epoch 5/40\n",
      "625/625 [==============================] - ETA: 0s - loss: 0.3486 - acc: 0.8514\n",
      "Epoch 00005: val_acc improved from 0.86570 to 0.87320, saving model to ../models/imdb/imdb_sentiment/0001/assets/cp.ckpt\n",
      "625/625 [==============================] - 40s 65ms/step - loss: 0.3486 - acc: 0.8514 - val_loss: 0.3084 - val_acc: 0.8732\n",
      "Epoch 6/40\n",
      "625/625 [==============================] - ETA: 0s - loss: 0.3287 - acc: 0.8606\n",
      "Epoch 00006: val_acc improved from 0.87320 to 0.87730, saving model to ../models/imdb/imdb_sentiment/0001/assets/cp.ckpt\n",
      "625/625 [==============================] - 40s 65ms/step - loss: 0.3287 - acc: 0.8606 - val_loss: 0.3007 - val_acc: 0.8773\n",
      "Epoch 7/40\n",
      "625/625 [==============================] - ETA: 0s - loss: 0.3143 - acc: 0.8691\n",
      "Epoch 00007: val_acc improved from 0.87730 to 0.88410, saving model to ../models/imdb/imdb_sentiment/0001/assets/cp.ckpt\n",
      "625/625 [==============================] - 41s 65ms/step - loss: 0.3143 - acc: 0.8691 - val_loss: 0.2885 - val_acc: 0.8841\n",
      "Epoch 8/40\n",
      "625/625 [==============================] - ETA: 0s - loss: 0.3018 - acc: 0.8749\n",
      "Epoch 00008: val_acc improved from 0.88410 to 0.88710, saving model to ../models/imdb/imdb_sentiment/0001/assets/cp.ckpt\n",
      "625/625 [==============================] - 41s 65ms/step - loss: 0.3018 - acc: 0.8749 - val_loss: 0.2822 - val_acc: 0.8871\n",
      "Epoch 9/40\n",
      "625/625 [==============================] - ETA: 0s - loss: 0.2859 - acc: 0.8809\n",
      "Epoch 00009: val_acc did not improve from 0.88710\n",
      "625/625 [==============================] - 40s 64ms/step - loss: 0.2859 - acc: 0.8809 - val_loss: 0.2771 - val_acc: 0.8859\n",
      "Epoch 10/40\n",
      "625/625 [==============================] - ETA: 0s - loss: 0.2801 - acc: 0.8842\n",
      "Epoch 00010: val_acc improved from 0.88710 to 0.88860, saving model to ../models/imdb/imdb_sentiment/0001/assets/cp.ckpt\n",
      "625/625 [==============================] - 40s 64ms/step - loss: 0.2801 - acc: 0.8842 - val_loss: 0.2704 - val_acc: 0.8886\n",
      "Epoch 11/40\n",
      "625/625 [==============================] - ETA: 0s - loss: 0.2713 - acc: 0.8885\n",
      "Epoch 00011: val_acc improved from 0.88860 to 0.89080, saving model to ../models/imdb/imdb_sentiment/0001/assets/cp.ckpt\n",
      "625/625 [==============================] - 40s 64ms/step - loss: 0.2713 - acc: 0.8885 - val_loss: 0.2660 - val_acc: 0.8908\n",
      "Epoch 12/40\n",
      "625/625 [==============================] - ETA: 0s - loss: 0.2659 - acc: 0.8913\n",
      "Epoch 00012: val_acc improved from 0.89080 to 0.89230, saving model to ../models/imdb/imdb_sentiment/0001/assets/cp.ckpt\n",
      "625/625 [==============================] - 40s 65ms/step - loss: 0.2659 - acc: 0.8913 - val_loss: 0.2676 - val_acc: 0.8923\n",
      "Epoch 13/40\n",
      "625/625 [==============================] - ETA: 0s - loss: 0.2570 - acc: 0.8951\n",
      "Epoch 00013: val_acc did not improve from 0.89230\n",
      "625/625 [==============================] - 40s 64ms/step - loss: 0.2570 - acc: 0.8951 - val_loss: 0.2773 - val_acc: 0.8856\n",
      "Epoch 14/40\n",
      "625/625 [==============================] - ETA: 0s - loss: 0.2495 - acc: 0.8990\n",
      "Epoch 00014: val_acc improved from 0.89230 to 0.89440, saving model to ../models/imdb/imdb_sentiment/0001/assets/cp.ckpt\n",
      "625/625 [==============================] - 40s 65ms/step - loss: 0.2495 - acc: 0.8990 - val_loss: 0.2617 - val_acc: 0.8944\n",
      "Epoch 15/40\n",
      "625/625 [==============================] - ETA: 0s - loss: 0.2429 - acc: 0.9035\n",
      "Epoch 00015: val_acc improved from 0.89440 to 0.89460, saving model to ../models/imdb/imdb_sentiment/0001/assets/cp.ckpt\n",
      "625/625 [==============================] - 41s 65ms/step - loss: 0.2429 - acc: 0.9035 - val_loss: 0.2573 - val_acc: 0.8946\n",
      "Epoch 16/40\n",
      "625/625 [==============================] - ETA: 0s - loss: 0.2387 - acc: 0.9054\n",
      "Epoch 00016: val_acc improved from 0.89460 to 0.89620, saving model to ../models/imdb/imdb_sentiment/0001/assets/cp.ckpt\n",
      "625/625 [==============================] - 41s 65ms/step - loss: 0.2387 - acc: 0.9054 - val_loss: 0.2550 - val_acc: 0.8962\n",
      "Epoch 17/40\n",
      "625/625 [==============================] - ETA: 0s - loss: 0.2300 - acc: 0.9085\n",
      "Epoch 00017: val_acc did not improve from 0.89620\n",
      "625/625 [==============================] - 40s 64ms/step - loss: 0.2300 - acc: 0.9085 - val_loss: 0.2622 - val_acc: 0.8938\n",
      "Epoch 18/40\n",
      "625/625 [==============================] - ETA: 0s - loss: 0.2272 - acc: 0.9093\n",
      "Epoch 00018: val_acc improved from 0.89620 to 0.89740, saving model to ../models/imdb/imdb_sentiment/0001/assets/cp.ckpt\n",
      "625/625 [==============================] - 40s 65ms/step - loss: 0.2272 - acc: 0.9093 - val_loss: 0.2547 - val_acc: 0.8974\n",
      "Epoch 19/40\n",
      "625/625 [==============================] - ETA: 0s - loss: 0.2182 - acc: 0.9126\n",
      "Epoch 00019: val_acc did not improve from 0.89740\n",
      "625/625 [==============================] - 40s 64ms/step - loss: 0.2182 - acc: 0.9126 - val_loss: 0.2561 - val_acc: 0.8965\n",
      "Epoch 20/40\n",
      "625/625 [==============================] - ETA: 0s - loss: 0.2133 - acc: 0.9166\n",
      "Epoch 00020: val_acc did not improve from 0.89740\n",
      "625/625 [==============================] - 40s 64ms/step - loss: 0.2133 - acc: 0.9166 - val_loss: 0.2540 - val_acc: 0.8973\n",
      "Epoch 21/40\n",
      "625/625 [==============================] - ETA: 0s - loss: 0.2106 - acc: 0.9162\n",
      "Epoch 00021: val_acc did not improve from 0.89740\n",
      "625/625 [==============================] - 40s 64ms/step - loss: 0.2106 - acc: 0.9162 - val_loss: 0.2556 - val_acc: 0.8944\n",
      "Epoch 22/40\n",
      "625/625 [==============================] - ETA: 0s - loss: 0.2084 - acc: 0.9181\n",
      "Epoch 00022: val_acc improved from 0.89740 to 0.89770, saving model to ../models/imdb/imdb_sentiment/0001/assets/cp.ckpt\n",
      "625/625 [==============================] - 40s 64ms/step - loss: 0.2084 - acc: 0.9181 - val_loss: 0.2541 - val_acc: 0.8977\n",
      "Epoch 23/40\n",
      "625/625 [==============================] - ETA: 0s - loss: 0.2004 - acc: 0.9222\n",
      "Epoch 00023: val_acc improved from 0.89770 to 0.89780, saving model to ../models/imdb/imdb_sentiment/0001/assets/cp.ckpt\n",
      "625/625 [==============================] - 41s 65ms/step - loss: 0.2004 - acc: 0.9222 - val_loss: 0.2540 - val_acc: 0.8978\n",
      "Epoch 24/40\n",
      "625/625 [==============================] - ETA: 0s - loss: 0.1948 - acc: 0.9233\n",
      "Epoch 00024: val_acc improved from 0.89780 to 0.89930, saving model to ../models/imdb/imdb_sentiment/0001/assets/cp.ckpt\n",
      "625/625 [==============================] - 40s 64ms/step - loss: 0.1948 - acc: 0.9233 - val_loss: 0.2530 - val_acc: 0.8993\n",
      "Epoch 25/40\n",
      "625/625 [==============================] - ETA: 0s - loss: 0.1907 - acc: 0.9258\n",
      "Epoch 00025: val_acc did not improve from 0.89930\n",
      "625/625 [==============================] - 40s 64ms/step - loss: 0.1907 - acc: 0.9258 - val_loss: 0.2693 - val_acc: 0.8911\n",
      "Epoch 26/40\n",
      "625/625 [==============================] - ETA: 0s - loss: 0.1881 - acc: 0.9263\n",
      "Epoch 00026: val_acc did not improve from 0.89930\n",
      "625/625 [==============================] - 39s 63ms/step - loss: 0.1881 - acc: 0.9263 - val_loss: 0.2685 - val_acc: 0.8918\n",
      "Epoch 27/40\n",
      "625/625 [==============================] - ETA: 0s - loss: 0.1837 - acc: 0.9281\n",
      "Epoch 00027: val_acc did not improve from 0.89930\n",
      "625/625 [==============================] - 40s 63ms/step - loss: 0.1837 - acc: 0.9281 - val_loss: 0.2577 - val_acc: 0.8957\n",
      "Epoch 28/40\n",
      "625/625 [==============================] - ETA: 0s - loss: 0.1795 - acc: 0.9309\n",
      "Epoch 00028: val_acc did not improve from 0.89930\n",
      "625/625 [==============================] - 40s 63ms/step - loss: 0.1795 - acc: 0.9309 - val_loss: 0.2767 - val_acc: 0.8855\n",
      "Epoch 29/40\n",
      "625/625 [==============================] - ETA: 0s - loss: 0.1716 - acc: 0.9334\n",
      "Epoch 00029: val_acc did not improve from 0.89930\n",
      "625/625 [==============================] - 40s 64ms/step - loss: 0.1716 - acc: 0.9334 - val_loss: 0.2537 - val_acc: 0.8973\n",
      "Epoch 30/40\n",
      "625/625 [==============================] - ETA: 0s - loss: 0.1706 - acc: 0.9345\n",
      "Epoch 00030: val_acc did not improve from 0.89930\n",
      "625/625 [==============================] - 40s 63ms/step - loss: 0.1706 - acc: 0.9345 - val_loss: 0.2589 - val_acc: 0.8972\n",
      "Epoch 31/40\n",
      "625/625 [==============================] - ETA: 0s - loss: 0.1635 - acc: 0.9363\n",
      "Epoch 00031: val_acc did not improve from 0.89930\n",
      "625/625 [==============================] - 40s 63ms/step - loss: 0.1635 - acc: 0.9363 - val_loss: 0.2688 - val_acc: 0.8917\n",
      "Epoch 32/40\n",
      "625/625 [==============================] - ETA: 0s - loss: 0.1636 - acc: 0.9369\n",
      "Epoch 00032: val_acc did not improve from 0.89930\n",
      "625/625 [==============================] - 40s 63ms/step - loss: 0.1636 - acc: 0.9369 - val_loss: 0.2753 - val_acc: 0.8908\n",
      "Epoch 33/40\n",
      "625/625 [==============================] - ETA: 0s - loss: 0.1551 - acc: 0.9415\n",
      "Epoch 00033: val_acc did not improve from 0.89930\n",
      "625/625 [==============================] - 40s 64ms/step - loss: 0.1551 - acc: 0.9415 - val_loss: 0.2876 - val_acc: 0.8904\n",
      "Epoch 34/40\n",
      "625/625 [==============================] - ETA: 0s - loss: 0.1563 - acc: 0.9386\n",
      "Epoch 00034: val_acc did not improve from 0.89930\n",
      "625/625 [==============================] - 39s 63ms/step - loss: 0.1563 - acc: 0.9386 - val_loss: 0.2802 - val_acc: 0.8938\n",
      "Epoch 35/40\n",
      "625/625 [==============================] - ETA: 0s - loss: 0.1540 - acc: 0.9412\n",
      "Epoch 00035: val_acc did not improve from 0.89930\n",
      "625/625 [==============================] - 40s 64ms/step - loss: 0.1540 - acc: 0.9412 - val_loss: 0.2893 - val_acc: 0.8943\n",
      "Epoch 36/40\n",
      "625/625 [==============================] - ETA: 0s - loss: 0.1520 - acc: 0.9408\n",
      "Epoch 00036: val_acc did not improve from 0.89930\n",
      "625/625 [==============================] - 40s 63ms/step - loss: 0.1520 - acc: 0.9408 - val_loss: 0.2987 - val_acc: 0.8807\n",
      "Epoch 37/40\n",
      "625/625 [==============================] - ETA: 0s - loss: 0.1497 - acc: 0.9413\n",
      "Epoch 00037: val_acc did not improve from 0.89930\n",
      "625/625 [==============================] - 40s 64ms/step - loss: 0.1497 - acc: 0.9413 - val_loss: 0.3299 - val_acc: 0.8693\n",
      "Epoch 38/40\n",
      "625/625 [==============================] - ETA: 0s - loss: 0.1470 - acc: 0.9447\n",
      "Epoch 00038: val_acc did not improve from 0.89930\n",
      "625/625 [==============================] - 40s 64ms/step - loss: 0.1470 - acc: 0.9447 - val_loss: 0.2726 - val_acc: 0.8934\n",
      "Epoch 39/40\n",
      "625/625 [==============================] - ETA: 0s - loss: 0.1426 - acc: 0.9457\n",
      "Epoch 00039: val_acc did not improve from 0.89930\n",
      "625/625 [==============================] - 40s 63ms/step - loss: 0.1426 - acc: 0.9457 - val_loss: 0.2870 - val_acc: 0.8899\n",
      "Epoch 40/40\n",
      "625/625 [==============================] - ETA: 0s - loss: 0.1443 - acc: 0.9451\n",
      "Epoch 00040: val_acc did not improve from 0.89930\n",
      "625/625 [==============================] - 40s 63ms/step - loss: 0.1443 - acc: 0.9451 - val_loss: 0.3286 - val_acc: 0.8849\n"
     ]
    }
   ],
   "source": [
    "EPOCHS = 40  # for quick testing\n",
    "\n",
    "# callbacks\n",
    "reduce_lr_on_plateau = ReduceLROnPlateau(monitor='val_loss', \n",
    "                                         factor=0.1, \n",
    "                                         patience=7, \n",
    "                                         verbose=1, \n",
    "                                         min_lr = 0.0001, \n",
    "                                         mode='min')\n",
    "\n",
    "checkpoint_callback = tf.keras.callbacks.ModelCheckpoint(MODEL_BEST_WEIGHTS,\n",
    "                                                         save_best_only=True,\n",
    "                                                         monitor='val_acc',\n",
    "                                                         save_weights_only=True,\n",
    "                                                         verbose=1)\n",
    "\n",
    "\n",
    "# make sure we have a GPU\n",
    "print(\"Training on GPU...\") if tf.config.list_physical_devices('GPU') else print(\"Training on CPU...\")\n",
    "\n",
    "model_history = model.fit(train_data.batch(BATCH_SIZE), epochs=EPOCHS, validation_data=test_data.batch(BATCH_SIZE),callbacks=[reduce_lr_on_plateau,checkpoint_callback] )\n",
    "\n"
   ]
  },
  {
   "cell_type": "markdown",
   "metadata": {},
   "source": [
    "## Evaluate model using unseen test data"
   ]
  },
  {
   "cell_type": "code",
   "execution_count": 32,
   "metadata": {},
   "outputs": [
    {
     "name": "stdout",
     "output_type": "stream",
     "text": [
      "157/157 [==============================] - 5s 30ms/step - loss: 0.3286 - acc: 0.8849\n",
      "Accuracy: 88.49%\n"
     ]
    }
   ],
   "source": [
    "\n",
    "scores_evaluate = model.evaluate(test_data.batch(BATCH_SIZE),verbose=1)\n",
    "print(\"Accuracy: %.2f%%\" % (scores_evaluate[1]*100))\n"
   ]
  },
  {
   "cell_type": "markdown",
   "metadata": {},
   "source": [
    "### Plot confusion matrix"
   ]
  },
  {
   "cell_type": "code",
   "execution_count": 33,
   "metadata": {},
   "outputs": [
    {
     "data": {
      "image/png": "[encoded data removed]",
      "text/plain": [
       "<Figure size 432x432 with 2 Axes>"
      ]
     },
     "metadata": {
      "needs_background": "light"
     },
     "output_type": "display_data"
    },
    {
     "name": "stdout",
     "output_type": "stream",
     "text": [
      "\n",
      "\n",
      "               precision    recall  f1-score   support\n",
      "\n",
      "           0       0.94      0.82      0.88      4993\n",
      "           1       0.84      0.95      0.89      5007\n",
      "\n",
      "    accuracy                           0.88     10000\n",
      "   macro avg       0.89      0.88      0.88     10000\n",
      "weighted avg       0.89      0.88      0.88     10000\n",
      "\n"
     ]
    }
   ],
   "source": [
    "import itertools\n",
    "from sklearn.metrics import confusion_matrix, classification_report, accuracy_score\n",
    "\n",
    "\n",
    "\n",
    "def plot_confusion_matrix(cm, classes, title='Confusion Matrix',cmap=plt.cm.Greys, normalize=True):\n",
    "    \"\"\"\n",
    "    This function prints and plots the confusion matrix.\n",
    "    Normalization can be applied by setting `normalize=True`.\n",
    "    \"\"\"\n",
    "\n",
    "    cm = cm.astype('float') / cm.sum(axis=1)[:, np.newaxis]\n",
    "\n",
    "    plt.imshow(cm, interpolation='nearest', cmap=cmap)\n",
    "    plt.title(title, fontsize=20)\n",
    "    plt.colorbar()\n",
    "    tick_marks = np.arange(len(classes))\n",
    "    plt.xticks(tick_marks, classes, fontsize=16)\n",
    "    plt.yticks(tick_marks, classes, fontsize=16)\n",
    "\n",
    "    fmt = '.2f'\n",
    "    thresh = cm.max() / 2.\n",
    "    for i, j in itertools.product(range(cm.shape[0]), range(cm.shape[1])):\n",
    "        plt.text(j, i, format(cm[i, j], fmt),\n",
    "                 horizontalalignment=\"center\",\n",
    "                 color=\"white\" if cm[i, j] > thresh else \"black\")\n",
    "\n",
    "    plt.ylabel('Actual', fontsize=22)\n",
    "    plt.xlabel('Predicted', fontsize=17)\n",
    "    \n",
    "    \n",
    "def decode_sentiment(score):\n",
    "    return 1 if score>0.5 else 0\n",
    "\n",
    "scores_predict = model.predict(test_data.batch(BATCH_SIZE),verbose=0)\n",
    "y_predictions = [decode_sentiment(score) for score in scores_predict]\n",
    "\n",
    "# add text predictions to list \n",
    "text_dataset_predictions = []\n",
    "[text_dataset_predictions.append(item[1].numpy()) for item in test_data]\n",
    "\n",
    "\n",
    "\n",
    "cnf_matrix = confusion_matrix(text_dataset_predictions, y_predictions)\n",
    "plt.figure(figsize=(6,6))\n",
    "plot_confusion_matrix(cnf_matrix, classes=list(set(text_dataset_predictions)), title=\"Confusion matrix\")\n",
    "plt.savefig('images/imdb-confusion-matrix.png',bbox_inches='tight')\n",
    "plt.show()\n",
    "\n",
    "# show the summary report\n",
    "print(\"\\n\\n\",classification_report(text_dataset_predictions, y_predictions))"
   ]
  },
  {
   "cell_type": "markdown",
   "metadata": {},
   "source": [
    "### Test the model"
   ]
  },
  {
   "cell_type": "code",
   "execution_count": 35,
   "metadata": {},
   "outputs": [
    {
     "name": "stdout",
     "output_type": "stream",
     "text": [
      "Probability this review is positive:  [[0.1174846]]\n",
      "Probability this review is positive:  [[0.83070904]]\n"
     ]
    }
   ],
   "source": [
    "# check negative review\n",
    "p = [[\"Totally overrated serie, the storyline just doesn't add up. Especially the action scenes are chaotic, have no common sense. The only positive thing is the acting of the Mandalorian. The little gremlin (baby Yoda) is only cute, but it uses his (or her?) powers on strange moments. Overall not worth to pay for Disney+ only for this serie.\"]]\n",
    "prob_positive = model.predict(p)\n",
    "print(\"Probability this review is positive: \",prob_positive)\n",
    "\n",
    "\n",
    "# check positive review\n",
    "p = [[\"This is the Star Wars atmosphere and feeling I've been waiting for. No dumb humor, cool characters, and a story I can take seriously. I'm a big fan of what they've done with this series so far and current Star Wars filmmakers need to take notes. The cinematography is amazing. You can tell they use practicality as much as possible and CGI is used only for the obvious like spaceships and creatures etc. It's a truly remarkable balance of old and new.\"]]\n",
    "prob_positive = model.predict(p)\n",
    "print(\"Probability this review is positive: \",prob_positive)"
   ]
  },
  {
   "cell_type": "markdown",
   "metadata": {},
   "source": [
    "## Load the best weights generated"
   ]
  },
  {
   "cell_type": "code",
   "execution_count": 36,
   "metadata": {},
   "outputs": [
    {
     "name": "stdout",
     "output_type": "stream",
     "text": [
      "157/157 [==============================] - 5s 30ms/step - loss: 0.2530 - acc: 0.8993\n",
      "Accuracy: 89.93%\n"
     ]
    }
   ],
   "source": [
    "\n",
    "model.load_weights(MODEL_BEST_WEIGHTS) # loads best weights saved during training\n",
    "\n",
    "scores_evaluate = model.evaluate(test_data.batch(BATCH_SIZE),verbose=1)\n",
    "print(\"Accuracy: %.2f%%\" % (scores_evaluate[1]*100))"
   ]
  },
  {
   "cell_type": "markdown",
   "metadata": {},
   "source": [
    "### Check model again after loading the best weights found for the model"
   ]
  },
  {
   "cell_type": "code",
   "execution_count": 39,
   "metadata": {},
   "outputs": [
    {
     "name": "stdout",
     "output_type": "stream",
     "text": [
      "Probability this review is positive:  [[0.13463074]]\n",
      "Probability this review is positive:  [[0.96699154]]\n"
     ]
    }
   ],
   "source": [
    "# check negative review\n",
    "p_2 = [[\"Totally overrated serie, the storyline just doesn't add up. Especially the action scenes are chaotic, have no common sense. The only positive thing is the acting of the Mandalorian. The little gremlin (baby Yoda) is only cute, but it uses his (or her?) powers on strange moments. Overall not worth to pay for Disney+ only for this serie.\"]]\n",
    "prob_positive = model.predict(p_2)\n",
    "print(\"Probability this review is positive: \",prob_positive)\n",
    "\n",
    "\n",
    "# check positive review\n",
    "p = [[\"This is the Star Wars atmosphere and feeling I've been waiting for. No dumb humor, cool characters, and a story I can take seriously. I'm a big fan of what they've done with this series so far and current Star Wars filmmakers need to take notes. The cinematography is amazing. You can tell they use practicality as much as possible and CGI is used only for the obvious like spaceships and creatures etc. It's a truly remarkable balance of old and new.\"]]\n",
    "prob_positive = model.predict(p)\n",
    "print(\"Probability this review is positive: \",prob_positive)"
   ]
  },
  {
   "cell_type": "markdown",
   "metadata": {},
   "source": [
    "## Save our final model, along with the embedding_matrix and vocab file, so we can recreate it exactly\n"
   ]
  },
  {
   "cell_type": "code",
   "execution_count": 40,
   "metadata": {},
   "outputs": [
    {
     "name": "stdout",
     "output_type": "stream",
     "text": [
      "INFO:tensorflow:Assets written to: ../models/imdb/imdb_sentiment/0001/assets\n"
     ]
    }
   ],
   "source": [
    "from keras.models import load_model\n",
    "\n",
    "# save the model first, so that assets folder is created and available\n",
    "model.save(MODEL_PATH)  # creates a .pd file\n",
    "\n",
    "# save history as a dictionary in case we need to recreate the plots again later\n",
    "with open(MODEL_TRAINING_HISORTY_FILE, 'wb') as file_pickle:\n",
    "        pickle.dump(model_history.history, file_pickle)\n",
    "\n",
    "\n",
    "# save the vocabulary file\n",
    "with open(MODEL_ASSETS_VOCABULARY_FILE, 'wb') as file_pickle:\n",
    "        pickle.dump(vocab, file_pickle)\n",
    "\n",
    "\n",
    "# save the embeddings matrix\n",
    "with open(MODEL_ASSETS_EMBEDDINGS_FILE, 'wb') as file_pickle:\n",
    "        pickle.dump(embedding_matrix, file_pickle)\n",
    "\n",
    "\n"
   ]
  },
  {
   "cell_type": "markdown",
   "metadata": {},
   "source": [
    "## Reload saved model"
   ]
  },
  {
   "cell_type": "code",
   "execution_count": 42,
   "metadata": {},
   "outputs": [
    {
     "data": {
      "text/plain": [
       "<tensorflow.python.training.tracking.util.CheckpointLoadStatus at 0x7f14e28fb6a0>"
      ]
     },
     "execution_count": 42,
     "metadata": {},
     "output_type": "execute_result"
    }
   ],
   "source": [
    "from tensorflow.keras.layers.experimental.preprocessing import TextVectorization # in Tensorflow 2.1 and above\n",
    "import pickle \n",
    "\n",
    "v = pickle.load(open(MODEL_ASSETS_VOCABULARY_FILE, 'rb'))\n",
    "em = pickle.load(open(MODEL_ASSETS_EMBEDDINGS_FILE, 'rb'))\n",
    "\n",
    "\n",
    "vectorizer_layer = TextVectorization(\n",
    "    standardize=normlize_data, \n",
    "    max_tokens=50000, \n",
    "    output_mode='int',\n",
    "    output_sequence_length=300)\n",
    "\n",
    "# build vocabulary, will also run the normalize_data() \n",
    "vectorizer_layer.set_vocabulary(v)\n",
    "\n",
    "\n",
    "saved_model = create_model(vectorizer_layer,em,v)\n",
    "\n",
    "# load the weights\n",
    "saved_model.load_weights(MODEL_BEST_WEIGHTS) # loads best weights saved during training"
   ]
  },
  {
   "cell_type": "markdown",
   "metadata": {},
   "source": [
    "## Check predictions for the above input is the same"
   ]
  },
  {
   "cell_type": "code",
   "execution_count": 43,
   "metadata": {},
   "outputs": [
    {
     "name": "stdout",
     "output_type": "stream",
     "text": [
      "Probability this review is positive:  [[0.13463074]]\n",
      "Probability this review is positive:  [[0.96699154]]\n"
     ]
    }
   ],
   "source": [
    "# check negative review\n",
    "p_2 = [[\"Totally overrated serie, the storyline just doesn't add up. Especially the action scenes are chaotic, have no common sense. The only positive thing is the acting of the Mandalorian. The little gremlin (baby Yoda) is only cute, but it uses his (or her?) powers on strange moments. Overall not worth to pay for Disney+ only for this serie.\"]]\n",
    "prob_positive = saved_model.predict(p_2)\n",
    "print(\"Probability this review is positive: \",prob_positive)\n",
    "\n",
    "\n",
    "# check positive review\n",
    "p = [[\"This is the Star Wars atmosphere and feeling I've been waiting for. No dumb humor, cool characters, and a story I can take seriously. I'm a big fan of what they've done with this series so far and current Star Wars filmmakers need to take notes. The cinematography is amazing. You can tell they use practicality as much as possible and CGI is used only for the obvious like spaceships and creatures etc. It's a truly remarkable balance of old and new.\"]]\n",
    "prob_positive = saved_model.predict(p)\n",
    "print(\"Probability this review is positive: \",prob_positive)"
   ]
  },
  {
   "cell_type": "markdown",
   "metadata": {},
   "source": [
    "# Create attack embeddings matrix for our vocabulary\n",
    "#### (This will be used when generating attacks against the model)"
   ]
  },
  {
   "cell_type": "code",
   "execution_count": null,
   "metadata": {},
   "outputs": [],
   "source": [
    "\n",
    "counter_embeddings_matrix = get_embeddings_matrix(COUNTER_FITTED_VECTORS, data_dictionary, DIMENSION)\n"
   ]
  },
  {
   "cell_type": "markdown",
   "metadata": {},
   "source": [
    "### Shape of our vocabulary matrix"
   ]
  },
  {
   "cell_type": "code",
   "execution_count": null,
   "metadata": {},
   "outputs": [],
   "source": [
    "\n",
    "print(counter_embeddings_matrix.shape)\n"
   ]
  },
  {
   "cell_type": "markdown",
   "metadata": {},
   "source": [
    "### Save our vocabulary embeddings matrix"
   ]
  },
  {
   "cell_type": "code",
   "execution_count": null,
   "metadata": {},
   "outputs": [],
   "source": [
    "import matplotlib.pyplot as plt\n",
    "\n",
    "acc = history_dict['accuracy']\n",
    "val_acc = history_dict['val_accuracy']\n",
    "loss = history_dict['loss']\n",
    "val_loss = history_dict['val_loss']\n",
    "\n",
    "epochs = range(1, len(acc) + 1)\n",
    "\n",
    "plt.figure(figsize=(12,7))\n",
    "plt.plot(epochs, loss,'bo', label='Training loss')\n",
    "# b is for \"solid blue line\"\n",
    "plt.plot(epochs, val_loss, 'b', label='Validation loss')\n",
    "plt.title('Training and validation loss')\n",
    "plt.xlabel('Epochs')\n",
    "plt.ylabel('Loss')\n",
    "plt.legend()\n",
    "plt.savefig('images/S140-training-and-validation-loss.png',bbox_inches='tight')\n",
    "plt.show()\n"
   ]
  },
  {
   "cell_type": "code",
   "execution_count": null,
   "metadata": {},
   "outputs": [],
   "source": [
    "plt.clf()   # clear figure\n",
    "plt.figure(figsize=(12,7))\n",
    "plt.plot(epochs, acc, 'bo', label='Training acc')\n",
    "plt.plot(epochs, val_acc, 'b', label='Validation acc')\n",
    "plt.title('Training and validation accuracy')\n",
    "plt.xlabel('Epochs')\n",
    "plt.ylabel('Accuracy')\n",
    "plt.legend()\n",
    "plt.savefig('images/S140-training-and-validation-accuracy.png',bbox_inches='tight')\n",
    "plt.show()\n"
   ]
  },
  {
   "cell_type": "code",
   "execution_count": null,
   "metadata": {},
   "outputs": [],
   "source": []
  },
  {
   "cell_type": "code",
   "execution_count": null,
   "metadata": {},
   "outputs": [],
   "source": [
    "counter_embeddings_matrix  = get_embeddings_matrix(COUNTER_FITTED_VECTORS, data_dictionary, DIMENSION)\n",
    "#counter_dict = counter_embeddings_dictionary(COUNTER_FITTED_VECTORS)"
   ]
  },
  {
   "cell_type": "code",
   "execution_count": null,
   "metadata": {},
   "outputs": [],
   "source": [
    "import numpy as np\n",
    "counter_embeddings_matrix = np.load((\"embeddings/imdb_counter_fitted_embeddings_%d.npy\" % MAX_VOCABULARY_SIZE))\n",
    "#print(find_closest_embeddings(data_dictionary[\"movies\"])[1:10])\n",
    "\n",
    "\n",
    "print(type(counter_embeddings_matrix))\n",
    "print(counter_embeddings_matrix.shape)"
   ]
  },
  {
   "cell_type": "code",
   "execution_count": null,
   "metadata": {},
   "outputs": [],
   "source": []
  },
  {
   "cell_type": "markdown",
   "metadata": {},
   "source": [
    "# Generate and save word distance matrix\n",
    "#### l2 distance: $(x-y)^2$ expand this out and we get: $x^2 + y^2 - 2xy$ using this to calculate euclidian (l2) distance between vectors\n",
    "\n"
   ]
  },
  {
   "cell_type": "code",
   "execution_count": null,
   "metadata": {},
   "outputs": [],
   "source": [
    "def distance_matrix(matrix):\n",
    "    dists = -2 * np.dot(matrix, matrix.T) + np.sum(matrix**2,    axis=1) + np.sum(matrix**2, axis=1)[:, np.newaxis]\n",
    "    return dists"
   ]
  },
  {
   "cell_type": "code",
   "execution_count": null,
   "metadata": {},
   "outputs": [],
   "source": [
    "\"\"\"\n",
    "THIS IS WHY WE HAVE TO REDUCE THE VOCABULARY SIZE - WE NEED TO ALLOCATE ENOUGH SPACE FOR THIS MATRIX\n",
    "IF WE USE THE FULL VOCABULARY SIZE - WE WILL NOT BE ABLE TO ALLOCATE ENOUGH MEMORY FOR THE SIZE OF THE MATRIX\n",
    "THAT WILL BE GENERATED\n",
    "\"\"\"\n",
    "square_matrix = -2 * np.dot(counter_embeddings_matrix, counter_embeddings_matrix.T)\n",
    "print(len(square_matrix))"
   ]
  },
  {
   "cell_type": "code",
   "execution_count": null,
   "metadata": {},
   "outputs": [],
   "source": [
    "a = np.sum(np.square(counter_embeddings_matrix), axis=1).reshape((1,-1))"
   ]
  },
  {
   "cell_type": "code",
   "execution_count": null,
   "metadata": {},
   "outputs": [],
   "source": [
    "b = a.T"
   ]
  },
  {
   "cell_type": "code",
   "execution_count": null,
   "metadata": {},
   "outputs": [],
   "source": [
    "square_matrix.shape"
   ]
  },
  {
   "cell_type": "code",
   "execution_count": null,
   "metadata": {},
   "outputs": [],
   "source": [
    "a.shape"
   ]
  },
  {
   "cell_type": "code",
   "execution_count": null,
   "metadata": {},
   "outputs": [],
   "source": [
    "b.shape"
   ]
  },
  {
   "cell_type": "markdown",
   "metadata": {},
   "source": [
    "# Save the distance matrix"
   ]
  },
  {
   "cell_type": "code",
   "execution_count": null,
   "metadata": {},
   "outputs": [],
   "source": [
    "dist = a + b + square_matrix"
   ]
  },
  {
   "cell_type": "code",
   "execution_count": null,
   "metadata": {},
   "outputs": [],
   "source": [
    "np.save(('embeddings/distance_counterfitted_embeddings_%d.npy' % MAX_VOCABULARY_SIZE), dist)"
   ]
  },
  {
   "cell_type": "code",
   "execution_count": null,
   "metadata": {},
   "outputs": [],
   "source": [
    "np.amax(dist)"
   ]
  },
  {
   "cell_type": "code",
   "execution_count": null,
   "metadata": {},
   "outputs": [],
   "source": [
    "np.amin(dist)"
   ]
  },
  {
   "cell_type": "markdown",
   "metadata": {},
   "source": [
    "# Closest words in disrtance matrix, and their distances"
   ]
  },
  {
   "cell_type": "code",
   "execution_count": null,
   "metadata": {},
   "outputs": [],
   "source": [
    "from manny_train import build_embeddings as bemb\n",
    "\n",
    "for r in range(100,105):\n",
    "    source_word = r\n",
    "    \n",
    "    nearest_neighbour, distance_to_neighbour = bemb.closest_neighbours(source_word, dist, ret_count=5)\n",
    "    \n",
    "    print(\"Nearest Neighbours to `%s` are:\" %inv_data_dictionary[source_word])\n",
    "    \n",
    "    for word_index, distance in zip(nearest_neighbour,distance_to_neighbour):\n",
    "        print(\"\\t--> \", inv_data_dictionary[word_index], \"     \", distance)\n",
    "    print(\"----------------------------------------------------------------\\n\")\n",
    "\n"
   ]
  },
  {
   "cell_type": "code",
   "execution_count": null,
   "metadata": {},
   "outputs": [],
   "source": [
    "dist_order = np.argsort(dist[src_word, :])[1:8]\n",
    "print(dist_order)"
   ]
  },
  {
   "cell_type": "code",
   "execution_count": null,
   "metadata": {},
   "outputs": [],
   "source": [
    "import tensorflow as tf\n",
    "import numpy as np\n",
    "import tensorflow_datasets as tfds\n"
   ]
  },
  {
   "cell_type": "code",
   "execution_count": null,
   "metadata": {},
   "outputs": [],
   "source": [
    "tf.__version__"
   ]
  },
  {
   "cell_type": "code",
   "execution_count": null,
   "metadata": {},
   "outputs": [],
   "source": [
    "# Load the IMDB reviews dataset using tfds. This is the raw data.\n",
    "imdb_reviews = tfds.load('imdb_reviews')\n",
    "\n",
    "# The IMDB dataset contains a train split and a test split; we create a separate\n",
    "# handle for each.\n",
    "train_raw = imdb_reviews['train']\n",
    "test_raw = imdb_reviews['test']\n",
    "\n",
    "\n",
    "# Once we have our handles, we format the datasets in a Keras-fit compatible\n",
    "# format: a tuple of the form (text_data, label).\n",
    "def format_dataset(input_data):\n",
    "    return (input_data['text'], input_data['label'])\n",
    "\n",
    "train_dataset = train_raw.map(format_dataset)\n",
    "test_dataset = test_raw.map(format_dataset)\n",
    "\n",
    "# We also create a dataset with only the textual data in it. This will be used\n",
    "# to build our vocabulary later on.\n",
    "\n",
    "text_dataset_1 = train_raw.map(lambda data: data['text'])\n",
    "\n"
   ]
  },
  {
   "cell_type": "code",
   "execution_count": null,
   "metadata": {},
   "outputs": [],
   "source": [
    "for t, i in train_dataset.take(1):\n",
    "    print(t)"
   ]
  }
 ],
 "metadata": {
  "kernelspec": {
   "display_name": "Python 3",
   "language": "python",
   "name": "python3"
  },
  "language_info": {
   "codemirror_mode": {
    "name": "ipython",
    "version": 3
   },
   "file_extension": ".py",
   "mimetype": "text/x-python",
   "name": "python",
   "nbconvert_exporter": "python",
   "pygments_lexer": "ipython3",
   "version": "3.8.5"
  }
 },
 "nbformat": 4,
 "nbformat_minor": 4
}
