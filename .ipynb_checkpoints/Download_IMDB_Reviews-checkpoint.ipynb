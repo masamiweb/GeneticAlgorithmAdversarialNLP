{
 "cells": [
  {
   "cell_type": "raw",
   "metadata": {},
   "source": [
    "https://shravan-kuchkula.github.io/scrape_imdb_movie_reviews/"
   ]
  },
  {
   "cell_type": "code",
   "execution_count": 40,
   "metadata": {},
   "outputs": [],
   "source": [
    "genres = \"Action,Adult,Adventure,Animation,Biography,Comedy,Crime,Documentary,Drama,Family,Fantasy,Film Noir,Game Show,History,Horror,Musical,Music,Mystery,News,Reality-TV,Romance,Sci-Fi,Short,Sport,Talk-Show,Thriller,War,Western\"\n",
    "genres_list = genres.split(',')\n"
   ]
  },
  {
   "cell_type": "markdown",
   "metadata": {},
   "source": [
    "### make an API request to IMDB site"
   ]
  },
  {
   "cell_type": "code",
   "execution_count": 5,
   "metadata": {},
   "outputs": [],
   "source": [
    "import requests\n",
    "from bs4 import BeautifulSoup\n",
    "import re\n",
    "import pandas as pd\n",
    "pd.options.display.max_colwidth=200\n",
    "\n",
    "import numpy as np\n",
    "import itertools\n"
   ]
  },
  {
   "cell_type": "code",
   "execution_count": 6,
   "metadata": {},
   "outputs": [],
   "source": [
    "def getSoup(url):\n",
    "    \"\"\"\n",
    "    Utility function which takes a url and returns a Soup object.\n",
    "    \"\"\"\n",
    "    response = requests.get(url)\n",
    "    soup = BeautifulSoup(response.text, 'html.parser')\n",
    "    \n",
    "    return soup\n",
    "\n",
    "def minMax(a):\n",
    "    '''Returns the index of negative and positive review.'''\n",
    "    \n",
    "    # get the index of least rated user review\n",
    "    minpos = a.index(min(a))\n",
    "    \n",
    "    # get the index of highest rated user review\n",
    "    maxpos = a.index(max(a))\n",
    "    \n",
    "    return minpos, maxpos\n",
    "\n",
    "def getReviews(soup):\n",
    "    '''Function returns a negative and positive review for each movie.'''\n",
    "    \n",
    "    # get a list of user ratings\n",
    "    user_review_ratings = [tag.previous_element for tag in \n",
    "                           soup.find_all('span', attrs={'class': 'point-scale'})]\n",
    "    \n",
    "    \n",
    "    # find the index of negative and positive review\n",
    "    n_index, p_index = minMax(list(map(int, user_review_ratings)))\n",
    "    \n",
    "    \n",
    "    # get the review tags\n",
    "    user_review_list = soup.find_all('a', attrs={'class':'title'})\n",
    "    \n",
    "    \n",
    "    # get the negative and positive review tags\n",
    "    n_review_tag = user_review_list[n_index]\n",
    "    p_review_tag = user_review_list[p_index]\n",
    "    \n",
    "    # return the negative and positive review link\n",
    "    n_review_link = \"https://www.imdb.com\" + n_review_tag['href']\n",
    "    p_review_link = \"https://www.imdb.com\" + p_review_tag['href']\n",
    "    \n",
    "    return n_review_link, p_review_link\n",
    "\n",
    "def getReviewText(review_url):\n",
    "    '''Returns the user review text given the review url.'''\n",
    "    \n",
    "    # get the review_url's soup\n",
    "    soup = getSoup(review_url)\n",
    "    \n",
    "    # find div tags with class text show-more__control\n",
    "    tag = soup.find('div', attrs={'class': 'text show-more__control'})\n",
    "    \n",
    "    return tag.getText()\n",
    "\n",
    "\n",
    "def getRatingStars(review_url):\n",
    "    '''Returns the star rating text given the review url.'''\n",
    "    #print(review_url)\n",
    "    # get the review_url's soup\n",
    "    soup = getSoup(review_url)\n",
    "    \n",
    "    tag = soup.find('span', attrs={'class': 'point-scale'})\n",
    "    \n",
    "    try:\n",
    "        tag = (soup.find('span', attrs={'class': 'point-scale'})).previous_sibling\n",
    "    except:\n",
    "        return '-1'\n",
    "\n",
    "    return tag.getText()\n",
    "\n",
    "def getMovieTitle(review_url):\n",
    "    '''Returns the movie title from the review url.'''\n",
    "    \n",
    "    # get the review_url's soup\n",
    "    soup = getSoup(review_url)\n",
    "    \n",
    "    # find h1 tag\n",
    "    tag = soup.find('h1')\n",
    "    \n",
    "    return list(tag.children)[1].getText()\n",
    "\n",
    "def getNounChunks(user_review):\n",
    "    \n",
    "    # create the doc object\n",
    "    doc = nlp(user_review)\n",
    "    \n",
    "    # get a list of noun_chunks\n",
    "    noun_chunks = list(doc.noun_chunks)\n",
    "    \n",
    "    # convert noun_chunks from span objects to strings, otherwise it won't pickle\n",
    "    noun_chunks_strlist = [chunk.text for chunk in noun_chunks]\n",
    "    \n",
    "    return noun_chunks_strlist"
   ]
  },
  {
   "cell_type": "markdown",
   "metadata": {},
   "source": [
    "### 1. make API request to get 250 movie titles"
   ]
  },
  {
   "cell_type": "code",
   "execution_count": 7,
   "metadata": {},
   "outputs": [],
   "source": [
    "# API call to select:\n",
    "## feature films\n",
    "## which are rated atleast 4.0\n",
    "## having atleast 50,000 votes\n",
    "## in the Thriller genre\n",
    "## sorted by user rating\n",
    "## limit to 250 movies\n",
    "url = '''https://www.imdb.com/search/title/?title_type=feature&user_rating=1.0,10.0&num_votes=1000,&genres=thriller&view=simple&sort=release_date,desc&count=250'''\n",
    "\n",
    "# get the soup object for main api url\n",
    "movies_soup = getSoup(url)"
   ]
  },
  {
   "cell_type": "markdown",
   "metadata": {},
   "source": [
    "### 2. scrape the result and extract movie links"
   ]
  },
  {
   "cell_type": "code",
   "execution_count": 8,
   "metadata": {},
   "outputs": [
    {
     "name": "stdout",
     "output_type": "stream",
     "text": [
      "There are a total of 250 movie titles\n",
      "Displaying 10 titles\n"
     ]
    },
    {
     "data": {
      "text/plain": [
       "['/title/tt11499506/',\n",
       " '/title/tt9110340/',\n",
       " '/title/tt9340860/',\n",
       " '/title/tt10736580/',\n",
       " '/title/tt10127684/',\n",
       " '/title/tt10840884/',\n",
       " '/title/tt8004664/',\n",
       " '/title/tt11284280/',\n",
       " '/title/tt2235695/',\n",
       " '/title/tt12882620/']"
      ]
     },
     "execution_count": 8,
     "metadata": {},
     "output_type": "execute_result"
    }
   ],
   "source": [
    "# find all a-tags with class:None\n",
    "movie_tags = movies_soup.find_all('a', attrs={'class': None})\n",
    "\n",
    "# filter the a-tags to get just the titles\n",
    "movie_tags = [tag.attrs['href'] for tag in movie_tags \n",
    "              if tag.attrs['href'].startswith('/title') & tag.attrs['href'].endswith('/')]\n",
    "\n",
    "# remove duplicate links\n",
    "movie_tags = list(dict.fromkeys(movie_tags))\n",
    "\n",
    "print(\"There are a total of \" + str(len(movie_tags)) + \" movie titles\")\n",
    "print(\"Displaying 10 titles\")\n",
    "movie_tags[:10]\n"
   ]
  },
  {
   "cell_type": "markdown",
   "metadata": {},
   "source": [
    "### 3. extract user reviews for each title"
   ]
  },
  {
   "cell_type": "code",
   "execution_count": 9,
   "metadata": {},
   "outputs": [
    {
     "name": "stdout",
     "output_type": "stream",
     "text": [
      "There are a total of 250 movie user reviews\n",
      "Displaying 10 user reviews links\n"
     ]
    },
    {
     "data": {
      "text/plain": [
       "['https://www.imdb.com/title/tt11499506/reviews',\n",
       " 'https://www.imdb.com/title/tt9110340/reviews',\n",
       " 'https://www.imdb.com/title/tt9340860/reviews',\n",
       " 'https://www.imdb.com/title/tt10736580/reviews',\n",
       " 'https://www.imdb.com/title/tt10127684/reviews',\n",
       " 'https://www.imdb.com/title/tt10840884/reviews',\n",
       " 'https://www.imdb.com/title/tt8004664/reviews',\n",
       " 'https://www.imdb.com/title/tt11284280/reviews',\n",
       " 'https://www.imdb.com/title/tt2235695/reviews',\n",
       " 'https://www.imdb.com/title/tt12882620/reviews']"
      ]
     },
     "execution_count": 9,
     "metadata": {},
     "output_type": "execute_result"
    }
   ],
   "source": [
    "# movie links\n",
    "base_url = \"https://www.imdb.com\"\n",
    "movie_links = [base_url + tag + 'reviews' for tag in movie_tags]\n",
    "print(\"There are a total of \" + str(len(movie_links)) + \" movie user reviews\")\n",
    "print(\"Displaying 10 user reviews links\")\n",
    "movie_links[:10]"
   ]
  },
  {
   "cell_type": "markdown",
   "metadata": {},
   "source": [
    "### 4. for each move get a positive and a negative review link"
   ]
  },
  {
   "cell_type": "code",
   "execution_count": 10,
   "metadata": {},
   "outputs": [
    {
     "name": "stdout",
     "output_type": "stream",
     "text": [
      "500\n",
      "There are a total of 500 individual movie reviews\n",
      "Displaying 10 reviews\n"
     ]
    },
    {
     "data": {
      "text/plain": [
       "['https://www.imdb.com/review/rw6317615/',\n",
       " 'https://www.imdb.com/review/rw6317151/',\n",
       " 'https://www.imdb.com/review/rw6320840/',\n",
       " 'https://www.imdb.com/review/rw6305364/',\n",
       " 'https://www.imdb.com/review/rw6269335/',\n",
       " 'https://www.imdb.com/review/rw6236463/',\n",
       " 'https://www.imdb.com/review/rw6223075/',\n",
       " 'https://www.imdb.com/review/rw6244347/',\n",
       " 'https://www.imdb.com/review/rw6221933/',\n",
       " 'https://www.imdb.com/review/rw6255742/']"
      ]
     },
     "execution_count": 10,
     "metadata": {},
     "output_type": "execute_result"
    }
   ],
   "source": [
    "# get a list of soup objects\n",
    "movie_soups = [getSoup(link) for link in movie_links]\n",
    "\n",
    "# get all 500 movie review links\n",
    "movie_review_list = [getReviews(movie_soup) for movie_soup in movie_soups]\n",
    "\n",
    "movie_review_list = list(itertools.chain(*movie_review_list))\n",
    "print(len(movie_review_list))\n",
    "\n",
    "print(\"There are a total of \" + str(len(movie_review_list)) + \" individual movie reviews\")\n",
    "print(\"Displaying 10 reviews\")\n",
    "movie_review_list[:10]"
   ]
  },
  {
   "cell_type": "markdown",
   "metadata": {},
   "source": [
    "### 5. create a dataframe from all the reviews"
   ]
  },
  {
   "cell_type": "code",
   "execution_count": null,
   "metadata": {},
   "outputs": [],
   "source": [
    "# get review text from the review link\n",
    "review_texts = [getReviewText(url) for url in movie_review_list]\n",
    "\n",
    "ratings_star =  [getRatingStars(url) for url in movie_review_list]\n",
    "\n",
    "# get movie name from the review link\n",
    "movie_titles = [getMovieTitle(url) for url in movie_review_list]\n",
    "\n",
    "# label each review with negative=0 or positive=1\n",
    "#review_sentiment = np.array([0, 1] * (len(movie_review_list)//2))\n",
    "\n",
    "# construct a dataframe\n",
    "df = pd.DataFrame({'movie': movie_titles, 'user_review_permalink': movie_review_list,\n",
    "             'text': review_texts, 'sentiment': ratings_star})"
   ]
  },
  {
   "cell_type": "code",
   "execution_count": null,
   "metadata": {},
   "outputs": [],
   "source": [
    "df.head()"
   ]
  },
  {
   "cell_type": "code",
   "execution_count": null,
   "metadata": {},
   "outputs": [],
   "source": [
    "df.info()"
   ]
  },
  {
   "cell_type": "markdown",
   "metadata": {},
   "source": [
    "### 6. set the correct sentiment labels"
   ]
  },
  {
   "cell_type": "code",
   "execution_count": null,
   "metadata": {},
   "outputs": [],
   "source": [
    "for r in df:\n",
    "    if df['sentiment'] == -1:\n",
    "        pass\n",
    "    elif df['sentiment'] <= 4:\n",
    "        df['sentiment'] = 0\n",
    "    else:\n",
    "        df['sentiment'] = 1\n",
    "        \n",
    "df = df[df.sentiment != -1]"
   ]
  },
  {
   "cell_type": "markdown",
   "metadata": {},
   "source": [
    "### 7. save the dataframe"
   ]
  },
  {
   "cell_type": "code",
   "execution_count": 16,
   "metadata": {},
   "outputs": [
    {
     "name": "stdout",
     "output_type": "stream",
     "text": [
      "Saved dataset to:  test_data/imdb/scraped_data.csv\n"
     ]
    }
   ],
   "source": [
    "test_data_dir = 'test_data/imdb/scraped_data.csv'\n",
    "\n",
    "df.to_csv(test_data_dir, index = False)\n",
    "print(\"Saved dataset to: \", test_data_dir)"
   ]
  },
  {
   "cell_type": "markdown",
   "metadata": {},
   "source": [
    "### 8. load dataframe and check contents"
   ]
  },
  {
   "cell_type": "code",
   "execution_count": 4,
   "metadata": {},
   "outputs": [
    {
     "name": "stdout",
     "output_type": "stream",
     "text": [
      "Loading previously saved dataset from:\t test_data/imdb/scraped_data.csv\n"
     ]
    }
   ],
   "source": [
    "\n",
    "test_data_dir = 'test_data/imdb/scraped_data.csv'\n",
    "\n",
    "print(\"Loading previously saved dataset from:\\t\", test_data_dir)\n",
    "dtypes = {'sentiment': 'int', 'text': 'str'}\n",
    "df = pd.read_csv(test_data_dir,dtype=dtypes) \n"
   ]
  },
  {
   "cell_type": "code",
   "execution_count": 5,
   "metadata": {},
   "outputs": [
    {
     "data": {
      "text/html": [
       "<div>\n",
       "<style scoped>\n",
       "    .dataframe tbody tr th:only-of-type {\n",
       "        vertical-align: middle;\n",
       "    }\n",
       "\n",
       "    .dataframe tbody tr th {\n",
       "        vertical-align: top;\n",
       "    }\n",
       "\n",
       "    .dataframe thead th {\n",
       "        text-align: right;\n",
       "    }\n",
       "</style>\n",
       "<table border=\"1\" class=\"dataframe\">\n",
       "  <thead>\n",
       "    <tr style=\"text-align: right;\">\n",
       "      <th></th>\n",
       "      <th>movie</th>\n",
       "      <th>user_review_permalink</th>\n",
       "      <th>text</th>\n",
       "      <th>sentiment</th>\n",
       "    </tr>\n",
       "  </thead>\n",
       "  <tbody>\n",
       "    <tr>\n",
       "      <th>0</th>\n",
       "      <td>The Dark Knight</td>\n",
       "      <td>https://www.imdb.com/review/rw1917099/</td>\n",
       "      <td>Dark, yes, complex, ambitious. Christopher Nolan and his co-writer Jonathan Nolan deserve a standing ovation. I don't usually go for loud movies filled with mindless gore and violence. \"The Dark K...</td>\n",
       "      <td>0</td>\n",
       "    </tr>\n",
       "    <tr>\n",
       "      <th>1</th>\n",
       "      <td>The Dark Knight</td>\n",
       "      <td>https://www.imdb.com/review/rw5478826/</td>\n",
       "      <td>Confidently directed, dark, brooding, and packed with impressive action sequences and a complex story, The Dark Knight includes a career-defining turn from Heath Ledger as well as other Oscar wort...</td>\n",
       "      <td>1</td>\n",
       "    </tr>\n",
       "    <tr>\n",
       "      <th>2</th>\n",
       "      <td>Inception</td>\n",
       "      <td>https://www.imdb.com/review/rw2286063/</td>\n",
       "      <td>I have to say to make such an impressive trailer and such an uninteresting film, takes some doing.Here you have most of the elements that would make a very good film. You have great special effect...</td>\n",
       "      <td>0</td>\n",
       "    </tr>\n",
       "    <tr>\n",
       "      <th>3</th>\n",
       "      <td>Inception</td>\n",
       "      <td>https://www.imdb.com/review/rw4692192/</td>\n",
       "      <td>My 3rd time watching this movie! Yet, it still stunned my mind, kept me enjoyed its every moment and left me with many thoughts afterward.\\nFor someone like me, who've rarely slept without dream, ...</td>\n",
       "      <td>1</td>\n",
       "    </tr>\n",
       "    <tr>\n",
       "      <th>4</th>\n",
       "      <td>Parasite</td>\n",
       "      <td>https://www.imdb.com/review/rw5362817/</td>\n",
       "      <td>There is no shortage of films that depict the injustice of social inequality but originality is scarce. With a large proportion of its population below the poverty line, it is noteworthy that a fi...</td>\n",
       "      <td>0</td>\n",
       "    </tr>\n",
       "  </tbody>\n",
       "</table>\n",
       "</div>"
      ],
      "text/plain": [
       "             movie                   user_review_permalink  \\\n",
       "0  The Dark Knight  https://www.imdb.com/review/rw1917099/   \n",
       "1  The Dark Knight  https://www.imdb.com/review/rw5478826/   \n",
       "2        Inception  https://www.imdb.com/review/rw2286063/   \n",
       "3        Inception  https://www.imdb.com/review/rw4692192/   \n",
       "4         Parasite  https://www.imdb.com/review/rw5362817/   \n",
       "\n",
       "                                                                                                                                                                                                      text  \\\n",
       "0  Dark, yes, complex, ambitious. Christopher Nolan and his co-writer Jonathan Nolan deserve a standing ovation. I don't usually go for loud movies filled with mindless gore and violence. \"The Dark K...   \n",
       "1  Confidently directed, dark, brooding, and packed with impressive action sequences and a complex story, The Dark Knight includes a career-defining turn from Heath Ledger as well as other Oscar wort...   \n",
       "2  I have to say to make such an impressive trailer and such an uninteresting film, takes some doing.Here you have most of the elements that would make a very good film. You have great special effect...   \n",
       "3  My 3rd time watching this movie! Yet, it still stunned my mind, kept me enjoyed its every moment and left me with many thoughts afterward.\\nFor someone like me, who've rarely slept without dream, ...   \n",
       "4  There is no shortage of films that depict the injustice of social inequality but originality is scarce. With a large proportion of its population below the poverty line, it is noteworthy that a fi...   \n",
       "\n",
       "   sentiment  \n",
       "0          0  \n",
       "1          1  \n",
       "2          0  \n",
       "3          1  \n",
       "4          0  "
      ]
     },
     "execution_count": 5,
     "metadata": {},
     "output_type": "execute_result"
    }
   ],
   "source": [
    "df.head()"
   ]
  },
  {
   "cell_type": "code",
   "execution_count": null,
   "metadata": {},
   "outputs": [],
   "source": [
    "df.info()"
   ]
  },
  {
   "cell_type": "code",
   "execution_count": 6,
   "metadata": {},
   "outputs": [],
   "source": [
    "from manny_modules import data_loading as process\n",
    "\n",
    "# drop un-needed columns\n",
    "df = df.drop(['user_review_permalink', 'movie'], axis=1) "
   ]
  },
  {
   "cell_type": "code",
   "execution_count": 7,
   "metadata": {},
   "outputs": [],
   "source": [
    "from manny_modules import normalize_dataset as nd\n",
    "\n",
    "df = nd.clean_and_return(df,'text')"
   ]
  },
  {
   "cell_type": "code",
   "execution_count": 8,
   "metadata": {},
   "outputs": [
    {
     "data": {
      "text/html": [
       "<div>\n",
       "<style scoped>\n",
       "    .dataframe tbody tr th:only-of-type {\n",
       "        vertical-align: middle;\n",
       "    }\n",
       "\n",
       "    .dataframe tbody tr th {\n",
       "        vertical-align: top;\n",
       "    }\n",
       "\n",
       "    .dataframe thead th {\n",
       "        text-align: right;\n",
       "    }\n",
       "</style>\n",
       "<table border=\"1\" class=\"dataframe\">\n",
       "  <thead>\n",
       "    <tr style=\"text-align: right;\">\n",
       "      <th></th>\n",
       "      <th>text</th>\n",
       "      <th>sentiment</th>\n",
       "    </tr>\n",
       "  </thead>\n",
       "  <tbody>\n",
       "    <tr>\n",
       "      <th>0</th>\n",
       "      <td>dark  yes  complex  ambitious  christopher nolan and his cowriter jonathan nolan deserve a standing ovation  i don't usually go for loud movies filled with mindless gore and violence  the dark kni...</td>\n",
       "      <td>0</td>\n",
       "    </tr>\n",
       "    <tr>\n",
       "      <th>1</th>\n",
       "      <td>confidently directed  dark  brooding  and packed with impressive action sequences and a complex story  the dark knight includes a careerdefining turn from heath ledger as well as other oscar worth...</td>\n",
       "      <td>1</td>\n",
       "    </tr>\n",
       "    <tr>\n",
       "      <th>2</th>\n",
       "      <td>i have to say to make such an impressive trailer and such an uninteresting film  takes some doing here you have most of the elements that would make a very good film  you have great special effect...</td>\n",
       "      <td>0</td>\n",
       "    </tr>\n",
       "    <tr>\n",
       "      <th>3</th>\n",
       "      <td>my rd time watching this movie  yet  it still stunned my mind  kept me enjoyed its every moment and left me with many thoughts afterward  for someone like me  who've rarely slept without dream  it...</td>\n",
       "      <td>1</td>\n",
       "    </tr>\n",
       "    <tr>\n",
       "      <th>4</th>\n",
       "      <td>there is no shortage of films that depict the injustice of social inequality but originality is scarce  with a large proportion of its population below the poverty line  it is noteworthy that a fi...</td>\n",
       "      <td>0</td>\n",
       "    </tr>\n",
       "  </tbody>\n",
       "</table>\n",
       "</div>"
      ],
      "text/plain": [
       "                                                                                                                                                                                                      text  \\\n",
       "0  dark  yes  complex  ambitious  christopher nolan and his cowriter jonathan nolan deserve a standing ovation  i don't usually go for loud movies filled with mindless gore and violence  the dark kni...   \n",
       "1  confidently directed  dark  brooding  and packed with impressive action sequences and a complex story  the dark knight includes a careerdefining turn from heath ledger as well as other oscar worth...   \n",
       "2  i have to say to make such an impressive trailer and such an uninteresting film  takes some doing here you have most of the elements that would make a very good film  you have great special effect...   \n",
       "3  my rd time watching this movie  yet  it still stunned my mind  kept me enjoyed its every moment and left me with many thoughts afterward  for someone like me  who've rarely slept without dream  it...   \n",
       "4  there is no shortage of films that depict the injustice of social inequality but originality is scarce  with a large proportion of its population below the poverty line  it is noteworthy that a fi...   \n",
       "\n",
       "   sentiment  \n",
       "0          0  \n",
       "1          1  \n",
       "2          0  \n",
       "3          1  \n",
       "4          0  "
      ]
     },
     "execution_count": 8,
     "metadata": {},
     "output_type": "execute_result"
    }
   ],
   "source": [
    "df.head()"
   ]
  },
  {
   "cell_type": "markdown",
   "metadata": {},
   "source": [
    "### save as test data set"
   ]
  },
  {
   "cell_type": "code",
   "execution_count": 23,
   "metadata": {},
   "outputs": [
    {
     "name": "stdout",
     "output_type": "stream",
     "text": [
      "Saved dataset to:  imdb_dataset/test_data_unseen.csv\n"
     ]
    }
   ],
   "source": [
    "test_data_unseen = 'imdb_dataset/test_data_unseen.csv'\n",
    "\n",
    "df.to_csv(test_data_unseen, index = False)\n",
    "print(\"Saved dataset to: \", test_data_unseen)\n",
    "\n",
    "print(\"Loading previously saved dataset from:\\t\", test_data_unseen)\n",
    "dtypes = {'sentiment': 'int', 'text': 'str'}\n",
    "df = pd.read_csv(test_data_unseen,dtype=dtypes) \n",
    "#drop and Nan rows if any\n",
    "df = df.dropna() \n",
    "\n",
    "# save again after dropping NaNs from set\n",
    "df.to_csv(test_data_unseen, index = False)\n",
    "print(\"Saved dataset to: \", test_data_unseen)"
   ]
  },
  {
   "cell_type": "code",
   "execution_count": null,
   "metadata": {},
   "outputs": [],
   "source": [
    "# from bs4 import BeautifulSoup\n",
    "\n",
    "# url_test = \"https://www.imdb.com/review/rw6056008/\"\n",
    "\n",
    "\n",
    "    \n",
    "# # get the review_url's soup\n",
    "# soup = getSoup(url_test)\n",
    "# # find div tags with class text show-more__control\n",
    "# tag = soup.find('span', attrs={'class': 'point-scale'})\n",
    "\n",
    "# try:\n",
    "#     tag = (soup.find('span', attrs={'class': 'point-scale'})).previous_sibling\n",
    "# except:\n",
    "#     print(\"NoneType error\")\n",
    "\n"
   ]
  },
  {
   "cell_type": "code",
   "execution_count": null,
   "metadata": {},
   "outputs": [],
   "source": []
  }
 ],
 "metadata": {
  "kernelspec": {
   "display_name": "Python 3",
   "language": "python",
   "name": "python3"
  },
  "language_info": {
   "codemirror_mode": {
    "name": "ipython",
    "version": 3
   },
   "file_extension": ".py",
   "mimetype": "text/x-python",
   "name": "python",
   "nbconvert_exporter": "python",
   "pygments_lexer": "ipython3",
   "version": "3.8.2"
  }
 },
 "nbformat": 4,
 "nbformat_minor": 4
}
