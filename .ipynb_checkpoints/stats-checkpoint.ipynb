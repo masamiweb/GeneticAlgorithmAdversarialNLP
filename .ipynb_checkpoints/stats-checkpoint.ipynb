{
 "cells": [
  {
   "cell_type": "code",
   "execution_count": 15,
   "metadata": {},
   "outputs": [],
   "source": [
    "import pandas as pd\n",
    "import numpy as np\n",
    "\n",
    "import matplotlib as mpl \n",
    "\n",
    "## agg backend is used to create plot as a .png file\n",
    "mpl.use('agg')\n",
    "\n",
    "import matplotlib.pyplot as plt \n"
   ]
  },
  {
   "cell_type": "code",
   "execution_count": 128,
   "metadata": {},
   "outputs": [],
   "source": [
    "\n",
    "bert_distance_stats.to_csv(\"ga_attack_results/ga_results_DISTANCE_BERT_STATS.csv\", index = False)"
   ]
  },
  {
   "cell_type": "code",
   "execution_count": 129,
   "metadata": {},
   "outputs": [],
   "source": [
    "ga_stats_results_BERT = \"ga_results_BERT_STATS.csv\"\n",
    "ga_stats_results_DISTANCE = \"ga_results_DISTANCE_STATS.csv\"\n",
    "ga_stats_results_DISTANCE_BERT = \"ga_results_DISTANCE_BERT_STATS.csv\"\n",
    "\n",
    "bert_stats = pd.read_csv('ga_attack_results/'+ga_stats_results_BERT)\n",
    "distance_stats = pd.read_csv('ga_attack_results/'+ga_stats_results_DISTANCE)\n",
    "bert_distance_stats = pd.read_csv('ga_attack_results/'+ga_stats_results_DISTANCE_BERT)\n"
   ]
  },
  {
   "cell_type": "code",
   "execution_count": 130,
   "metadata": {},
   "outputs": [
    {
     "data": {
      "text/html": [
       "<div>\n",
       "<style scoped>\n",
       "    .dataframe tbody tr th:only-of-type {\n",
       "        vertical-align: middle;\n",
       "    }\n",
       "\n",
       "    .dataframe tbody tr th {\n",
       "        vertical-align: top;\n",
       "    }\n",
       "\n",
       "    .dataframe thead th {\n",
       "        text-align: right;\n",
       "    }\n",
       "</style>\n",
       "<table border=\"1\" class=\"dataframe\">\n",
       "  <thead>\n",
       "    <tr style=\"text-align: right;\">\n",
       "      <th></th>\n",
       "      <th>sentiment</th>\n",
       "      <th>text</th>\n",
       "      <th>probs</th>\n",
       "      <th>ga_sentiment</th>\n",
       "      <th>ga_text</th>\n",
       "      <th>ga_probs</th>\n",
       "      <th>ga_num_changes</th>\n",
       "      <th>ga_lev_ratio</th>\n",
       "      <th>ga_flipped_sentiment</th>\n",
       "      <th>ga_percent_change</th>\n",
       "      <th>ga_generations</th>\n",
       "      <th>ga_time_taken</th>\n",
       "    </tr>\n",
       "  </thead>\n",
       "  <tbody>\n",
       "    <tr>\n",
       "      <th>0</th>\n",
       "      <td>0</td>\n",
       "      <td>well i must say this is probably the worst fil...</td>\n",
       "      <td>0.025771</td>\n",
       "      <td>1</td>\n",
       "      <td>well i must say this is probably the best film...</td>\n",
       "      <td>0.812936</td>\n",
       "      <td>5</td>\n",
       "      <td>0.966937</td>\n",
       "      <td>Y</td>\n",
       "      <td>0.03</td>\n",
       "      <td>1</td>\n",
       "      <td>42</td>\n",
       "    </tr>\n",
       "    <tr>\n",
       "      <th>1</th>\n",
       "      <td>1</td>\n",
       "      <td>if christopher nolan had made memento before f...</td>\n",
       "      <td>0.769358</td>\n",
       "      <td>0</td>\n",
       "      <td>if christopher nolan had made memento before f...</td>\n",
       "      <td>0.398513</td>\n",
       "      <td>8</td>\n",
       "      <td>0.968591</td>\n",
       "      <td>Y</td>\n",
       "      <td>0.03</td>\n",
       "      <td>2</td>\n",
       "      <td>87</td>\n",
       "    </tr>\n",
       "    <tr>\n",
       "      <th>2</th>\n",
       "      <td>1</td>\n",
       "      <td>i'm not saying anything new when i say that ra...</td>\n",
       "      <td>0.807952</td>\n",
       "      <td>0</td>\n",
       "      <td>i'm not saying anything new when i say that ra...</td>\n",
       "      <td>0.484280</td>\n",
       "      <td>5</td>\n",
       "      <td>0.977343</td>\n",
       "      <td>Y</td>\n",
       "      <td>0.03</td>\n",
       "      <td>1</td>\n",
       "      <td>43</td>\n",
       "    </tr>\n",
       "    <tr>\n",
       "      <th>3</th>\n",
       "      <td>0</td>\n",
       "      <td>i have been watching lost with my family since...</td>\n",
       "      <td>0.476023</td>\n",
       "      <td>1</td>\n",
       "      <td>i have been watching lost with my family since...</td>\n",
       "      <td>0.672474</td>\n",
       "      <td>4</td>\n",
       "      <td>0.979098</td>\n",
       "      <td>Y</td>\n",
       "      <td>0.01</td>\n",
       "      <td>1</td>\n",
       "      <td>44</td>\n",
       "    </tr>\n",
       "    <tr>\n",
       "      <th>4</th>\n",
       "      <td>1</td>\n",
       "      <td>caught this flick as one of a fivefor deal fro...</td>\n",
       "      <td>0.942861</td>\n",
       "      <td>0</td>\n",
       "      <td>caught this flick as one of a fivefor deal fro...</td>\n",
       "      <td>0.456993</td>\n",
       "      <td>8</td>\n",
       "      <td>0.959369</td>\n",
       "      <td>Y</td>\n",
       "      <td>0.05</td>\n",
       "      <td>2</td>\n",
       "      <td>84</td>\n",
       "    </tr>\n",
       "  </tbody>\n",
       "</table>\n",
       "</div>"
      ],
      "text/plain": [
       "   sentiment                                               text     probs  \\\n",
       "0          0  well i must say this is probably the worst fil...  0.025771   \n",
       "1          1  if christopher nolan had made memento before f...  0.769358   \n",
       "2          1  i'm not saying anything new when i say that ra...  0.807952   \n",
       "3          0  i have been watching lost with my family since...  0.476023   \n",
       "4          1  caught this flick as one of a fivefor deal fro...  0.942861   \n",
       "\n",
       "   ga_sentiment                                            ga_text  ga_probs  \\\n",
       "0             1  well i must say this is probably the best film...  0.812936   \n",
       "1             0  if christopher nolan had made memento before f...  0.398513   \n",
       "2             0  i'm not saying anything new when i say that ra...  0.484280   \n",
       "3             1  i have been watching lost with my family since...  0.672474   \n",
       "4             0  caught this flick as one of a fivefor deal fro...  0.456993   \n",
       "\n",
       "   ga_num_changes  ga_lev_ratio ga_flipped_sentiment  ga_percent_change  \\\n",
       "0               5      0.966937                    Y               0.03   \n",
       "1               8      0.968591                    Y               0.03   \n",
       "2               5      0.977343                    Y               0.03   \n",
       "3               4      0.979098                    Y               0.01   \n",
       "4               8      0.959369                    Y               0.05   \n",
       "\n",
       "   ga_generations  ga_time_taken  \n",
       "0               1             42  \n",
       "1               2             87  \n",
       "2               1             43  \n",
       "3               1             44  \n",
       "4               2             84  "
      ]
     },
     "execution_count": 130,
     "metadata": {},
     "output_type": "execute_result"
    }
   ],
   "source": [
    "bert_stats.head()"
   ]
  },
  {
   "cell_type": "code",
   "execution_count": 131,
   "metadata": {},
   "outputs": [
    {
     "data": {
      "text/html": [
       "<div>\n",
       "<style scoped>\n",
       "    .dataframe tbody tr th:only-of-type {\n",
       "        vertical-align: middle;\n",
       "    }\n",
       "\n",
       "    .dataframe tbody tr th {\n",
       "        vertical-align: top;\n",
       "    }\n",
       "\n",
       "    .dataframe thead th {\n",
       "        text-align: right;\n",
       "    }\n",
       "</style>\n",
       "<table border=\"1\" class=\"dataframe\">\n",
       "  <thead>\n",
       "    <tr style=\"text-align: right;\">\n",
       "      <th></th>\n",
       "      <th>sentiment</th>\n",
       "      <th>text</th>\n",
       "      <th>probs</th>\n",
       "      <th>ga_sentiment</th>\n",
       "      <th>ga_text</th>\n",
       "      <th>ga_probs</th>\n",
       "      <th>ga_num_changes</th>\n",
       "      <th>ga_lev_ratio</th>\n",
       "      <th>ga_flipped_sentiment</th>\n",
       "      <th>ga_percent_change</th>\n",
       "      <th>ga_generations</th>\n",
       "      <th>ga_time_taken</th>\n",
       "    </tr>\n",
       "  </thead>\n",
       "  <tbody>\n",
       "    <tr>\n",
       "      <th>0</th>\n",
       "      <td>0</td>\n",
       "      <td>well i must say this is probably the worst fil...</td>\n",
       "      <td>0.025771</td>\n",
       "      <td>1</td>\n",
       "      <td>well i must say this is arguably the meanest f...</td>\n",
       "      <td>0.762060</td>\n",
       "      <td>13</td>\n",
       "      <td>0.934823</td>\n",
       "      <td>Y</td>\n",
       "      <td>0.08</td>\n",
       "      <td>3</td>\n",
       "      <td>97</td>\n",
       "    </tr>\n",
       "    <tr>\n",
       "      <th>1</th>\n",
       "      <td>1</td>\n",
       "      <td>if christopher nolan had made memento before f...</td>\n",
       "      <td>0.769358</td>\n",
       "      <td>0</td>\n",
       "      <td>if christopher nolan had made memento before f...</td>\n",
       "      <td>0.448427</td>\n",
       "      <td>5</td>\n",
       "      <td>0.974665</td>\n",
       "      <td>Y</td>\n",
       "      <td>0.02</td>\n",
       "      <td>1</td>\n",
       "      <td>33</td>\n",
       "    </tr>\n",
       "    <tr>\n",
       "      <th>2</th>\n",
       "      <td>1</td>\n",
       "      <td>i'm not saying anything new when i say that ra...</td>\n",
       "      <td>0.807952</td>\n",
       "      <td>0</td>\n",
       "      <td>i'm not saying anything new when i tell that r...</td>\n",
       "      <td>0.392656</td>\n",
       "      <td>7</td>\n",
       "      <td>0.970754</td>\n",
       "      <td>Y</td>\n",
       "      <td>0.04</td>\n",
       "      <td>2</td>\n",
       "      <td>59</td>\n",
       "    </tr>\n",
       "    <tr>\n",
       "      <th>3</th>\n",
       "      <td>0</td>\n",
       "      <td>i have been watching lost with my family since...</td>\n",
       "      <td>0.476023</td>\n",
       "      <td>1</td>\n",
       "      <td>i have been watching lost with my family since...</td>\n",
       "      <td>0.799918</td>\n",
       "      <td>2</td>\n",
       "      <td>0.978627</td>\n",
       "      <td>Y</td>\n",
       "      <td>0.01</td>\n",
       "      <td>1</td>\n",
       "      <td>32</td>\n",
       "    </tr>\n",
       "    <tr>\n",
       "      <th>4</th>\n",
       "      <td>1</td>\n",
       "      <td>caught this flick as one of a fivefor deal fro...</td>\n",
       "      <td>0.942861</td>\n",
       "      <td>0</td>\n",
       "      <td>caught this flick as somebody of a fivefor dea...</td>\n",
       "      <td>0.463923</td>\n",
       "      <td>9</td>\n",
       "      <td>0.955224</td>\n",
       "      <td>Y</td>\n",
       "      <td>0.06</td>\n",
       "      <td>2</td>\n",
       "      <td>64</td>\n",
       "    </tr>\n",
       "  </tbody>\n",
       "</table>\n",
       "</div>"
      ],
      "text/plain": [
       "   sentiment                                               text     probs  \\\n",
       "0          0  well i must say this is probably the worst fil...  0.025771   \n",
       "1          1  if christopher nolan had made memento before f...  0.769358   \n",
       "2          1  i'm not saying anything new when i say that ra...  0.807952   \n",
       "3          0  i have been watching lost with my family since...  0.476023   \n",
       "4          1  caught this flick as one of a fivefor deal fro...  0.942861   \n",
       "\n",
       "   ga_sentiment                                            ga_text  ga_probs  \\\n",
       "0             1  well i must say this is arguably the meanest f...  0.762060   \n",
       "1             0  if christopher nolan had made memento before f...  0.448427   \n",
       "2             0  i'm not saying anything new when i tell that r...  0.392656   \n",
       "3             1  i have been watching lost with my family since...  0.799918   \n",
       "4             0  caught this flick as somebody of a fivefor dea...  0.463923   \n",
       "\n",
       "   ga_num_changes  ga_lev_ratio ga_flipped_sentiment  ga_percent_change  \\\n",
       "0              13      0.934823                    Y               0.08   \n",
       "1               5      0.974665                    Y               0.02   \n",
       "2               7      0.970754                    Y               0.04   \n",
       "3               2      0.978627                    Y               0.01   \n",
       "4               9      0.955224                    Y               0.06   \n",
       "\n",
       "   ga_generations  ga_time_taken  \n",
       "0               3             97  \n",
       "1               1             33  \n",
       "2               2             59  \n",
       "3               1             32  \n",
       "4               2             64  "
      ]
     },
     "execution_count": 131,
     "metadata": {},
     "output_type": "execute_result"
    }
   ],
   "source": [
    "distance_stats.head()"
   ]
  },
  {
   "cell_type": "markdown",
   "metadata": {},
   "source": [
    "# box plots for time taken "
   ]
  },
  {
   "cell_type": "code",
   "execution_count": 125,
   "metadata": {},
   "outputs": [
    {
     "data": {
      "text/html": [
       "<div>\n",
       "<style scoped>\n",
       "    .dataframe tbody tr th:only-of-type {\n",
       "        vertical-align: middle;\n",
       "    }\n",
       "\n",
       "    .dataframe tbody tr th {\n",
       "        vertical-align: top;\n",
       "    }\n",
       "\n",
       "    .dataframe thead th {\n",
       "        text-align: right;\n",
       "    }\n",
       "</style>\n",
       "<table border=\"1\" class=\"dataframe\">\n",
       "  <thead>\n",
       "    <tr style=\"text-align: right;\">\n",
       "      <th></th>\n",
       "      <th>sentiment</th>\n",
       "      <th>text</th>\n",
       "      <th>probs</th>\n",
       "      <th>ga_sentiment</th>\n",
       "      <th>ga_text</th>\n",
       "      <th>ga_probs</th>\n",
       "      <th>ga_num_changes</th>\n",
       "      <th>ga_lev_ratio</th>\n",
       "      <th>ga_flipped_sentiment</th>\n",
       "      <th>ga_percent_change</th>\n",
       "      <th>ga_generations</th>\n",
       "      <th>ga_time_taken</th>\n",
       "    </tr>\n",
       "  </thead>\n",
       "  <tbody>\n",
       "    <tr>\n",
       "      <th>0</th>\n",
       "      <td>0</td>\n",
       "      <td>well i must say this is probably the worst fil...</td>\n",
       "      <td>0.025771</td>\n",
       "      <td>1</td>\n",
       "      <td>well i must say this is probably the meanest f...</td>\n",
       "      <td>0.768538</td>\n",
       "      <td>20</td>\n",
       "      <td>0.895522</td>\n",
       "      <td>Y</td>\n",
       "      <td>0.13</td>\n",
       "      <td>5</td>\n",
       "      <td>264</td>\n",
       "    </tr>\n",
       "    <tr>\n",
       "      <th>1</th>\n",
       "      <td>1</td>\n",
       "      <td>if christopher nolan had made memento before f...</td>\n",
       "      <td>0.769358</td>\n",
       "      <td>0</td>\n",
       "      <td>if christopher nolan had made memento before f...</td>\n",
       "      <td>0.395876</td>\n",
       "      <td>10</td>\n",
       "      <td>0.966031</td>\n",
       "      <td>Y</td>\n",
       "      <td>0.03</td>\n",
       "      <td>2</td>\n",
       "      <td>107</td>\n",
       "    </tr>\n",
       "    <tr>\n",
       "      <th>2</th>\n",
       "      <td>1</td>\n",
       "      <td>i'm not saying anything new when i say that ra...</td>\n",
       "      <td>0.807952</td>\n",
       "      <td>0</td>\n",
       "      <td>i'm not saying somethings newer when i say tha...</td>\n",
       "      <td>0.426562</td>\n",
       "      <td>10</td>\n",
       "      <td>0.958418</td>\n",
       "      <td>Y</td>\n",
       "      <td>0.05</td>\n",
       "      <td>2</td>\n",
       "      <td>106</td>\n",
       "    </tr>\n",
       "    <tr>\n",
       "      <th>3</th>\n",
       "      <td>0</td>\n",
       "      <td>i have been watching lost with my family since...</td>\n",
       "      <td>0.476023</td>\n",
       "      <td>1</td>\n",
       "      <td>i have been watching lost with my family since...</td>\n",
       "      <td>0.637239</td>\n",
       "      <td>5</td>\n",
       "      <td>0.978884</td>\n",
       "      <td>Y</td>\n",
       "      <td>0.01</td>\n",
       "      <td>1</td>\n",
       "      <td>53</td>\n",
       "    </tr>\n",
       "    <tr>\n",
       "      <th>4</th>\n",
       "      <td>1</td>\n",
       "      <td>caught this flick as one of a fivefor deal fro...</td>\n",
       "      <td>0.942861</td>\n",
       "      <td>0</td>\n",
       "      <td>caught this flick as anyone of a fivefor addre...</td>\n",
       "      <td>0.294813</td>\n",
       "      <td>29</td>\n",
       "      <td>0.836257</td>\n",
       "      <td>Y</td>\n",
       "      <td>0.19</td>\n",
       "      <td>5</td>\n",
       "      <td>256</td>\n",
       "    </tr>\n",
       "  </tbody>\n",
       "</table>\n",
       "</div>"
      ],
      "text/plain": [
       "   sentiment                                               text     probs  \\\n",
       "0          0  well i must say this is probably the worst fil...  0.025771   \n",
       "1          1  if christopher nolan had made memento before f...  0.769358   \n",
       "2          1  i'm not saying anything new when i say that ra...  0.807952   \n",
       "3          0  i have been watching lost with my family since...  0.476023   \n",
       "4          1  caught this flick as one of a fivefor deal fro...  0.942861   \n",
       "\n",
       "   ga_sentiment                                            ga_text  ga_probs  \\\n",
       "0             1  well i must say this is probably the meanest f...  0.768538   \n",
       "1             0  if christopher nolan had made memento before f...  0.395876   \n",
       "2             0  i'm not saying somethings newer when i say tha...  0.426562   \n",
       "3             1  i have been watching lost with my family since...  0.637239   \n",
       "4             0  caught this flick as anyone of a fivefor addre...  0.294813   \n",
       "\n",
       "   ga_num_changes  ga_lev_ratio ga_flipped_sentiment  ga_percent_change  \\\n",
       "0              20      0.895522                    Y               0.13   \n",
       "1              10      0.966031                    Y               0.03   \n",
       "2              10      0.958418                    Y               0.05   \n",
       "3               5      0.978884                    Y               0.01   \n",
       "4              29      0.836257                    Y               0.19   \n",
       "\n",
       "   ga_generations  ga_time_taken  \n",
       "0               5            264  \n",
       "1               2            107  \n",
       "2               2            106  \n",
       "3               1             53  \n",
       "4               5            256  "
      ]
     },
     "execution_count": 125,
     "metadata": {},
     "output_type": "execute_result"
    }
   ],
   "source": [
    "bert_distance_stats.head()"
   ]
  },
  {
   "cell_type": "markdown",
   "metadata": {},
   "source": [
    "# graphs"
   ]
  },
  {
   "cell_type": "code",
   "execution_count": 115,
   "metadata": {},
   "outputs": [],
   "source": [
    "def time_boxplot(data_method_a, data_method_b, data_method_c, file_name):\n",
    "    \n",
    "    data = [data_method_a,data_method_b,data_method_c] \n",
    "\n",
    "    labels = ['Method A\\nStandard Deviation\\n' + str(np.std(distance_time)),'Method B\\nStandard Deviation\\n' + str(np.std(bert_time)),'Method C\\nStandard Deviation\\n' + str(np.std(bert_distance_time))]\n",
    "\n",
    "    # Create a figure instance\n",
    "    fig = plt.figure(1, figsize=(15, 12))\n",
    "\n",
    "    # Create an axes instance\n",
    "    axs = fig.add_subplot(111)\n",
    "\n",
    "    axs.set_xticklabels(labels)\n",
    "\n",
    "    box_plot = axs.boxplot(data, showmeans=True)\n",
    "\n",
    "    h, l = axs.get_legend_handles_labels()\n",
    "    h.append(box_plot.get('means')[0])\n",
    "    h.append(box_plot.get('medians')[0])\n",
    "    h.append(box_plot.get('fliers')[0])\n",
    "\n",
    "    l = ['Mean', 'Median', 'Outliers']\n",
    "    plt.rcParams[\"legend.loc\"] = 'lower right'\n",
    "    plt.legend(h, l)\n",
    "\n",
    "\n",
    "    fig.savefig(file_name, bbox_inches='tight')\n",
    "    plt.show()\n",
    "    \n",
    "    return\n",
    "  \n",
    "\n",
    "def method_scatterplot(x_axis, y_axis, file_name):\n",
    "    rng = np.random.RandomState(0)\n",
    "    fig = plt.figure(1, figsize=(15, 12))\n",
    "    plt.xticks(range(len(x_axis)))\n",
    "\n",
    "    plt.scatter(x_axis, y_axis,  alpha=0.3)\n",
    "\n",
    "    fig.savefig(file_name, bbox_inches='tight')\n",
    "    \n",
    "    plt.show()\n",
    "\n",
    "    return\n",
    "\n"
   ]
  },
  {
   "cell_type": "markdown",
   "metadata": {},
   "source": [
    "# display boxplot for each method for time taken to run"
   ]
  },
  {
   "cell_type": "code",
   "execution_count": 110,
   "metadata": {},
   "outputs": [
    {
     "name": "stderr",
     "output_type": "stream",
     "text": [
      "<ipython-input-108-d67a257f7765>:13: UserWarning: FixedFormatter should only be used together with FixedLocator\n",
      "  axs.set_xticklabels(labels)\n"
     ]
    },
    {
     "data": {
      "image/png": "[encoded data removed]",
      "text/plain": [
       "<Figure size 1080x864 with 1 Axes>"
      ]
     },
     "metadata": {
      "needs_background": "light"
     },
     "output_type": "display_data"
    }
   ],
   "source": [
    "# box plot data\n",
    "distance_time_box = distance_stats['ga_time_taken'] # method A\n",
    "bert_time_box = bert_stats['ga_time_taken'] # method B\n",
    "bert_distance_time_box = bert_distance_stats['ga_time_taken'] # method C\n",
    "time_box_filename = 'ga_attack_results/box-plot-time.png'\n",
    "\n",
    "# draw and save box plot\n",
    "time_boxplot(distance_time,bert_time_box,bert_distance_time_box, time_box_filename)\n",
    "\n",
    "\n",
    "\n",
    "\n"
   ]
  },
  {
   "cell_type": "markdown",
   "metadata": {},
   "source": [
    "# scatter plot for Method A"
   ]
  },
  {
   "cell_type": "code",
   "execution_count": 116,
   "metadata": {},
   "outputs": [
    {
     "data": {
      "image/png": "[encoded data removed]",
      "text/plain": [
       "<Figure size 1080x864 with 1 Axes>"
      ]
     },
     "metadata": {
      "needs_background": "light"
     },
     "output_type": "display_data"
    }
   ],
   "source": [
    "\n",
    "distance_time_box_scatter_gen = distance_stats['ga_generations']\n",
    "distance_time_box_scatter = distance_stats['ga_num_changes']\n",
    "scatter_plot_filename_a = 'ga_attack_results/scatter-plot-method_a.png'\n",
    "method_scatterplot(distance_time_box_scatter_gen,distance_time_box_scatter,scatter_plot_filename_a)\n"
   ]
  },
  {
   "cell_type": "markdown",
   "metadata": {},
   "source": [
    "# scatter plot for Method B"
   ]
  },
  {
   "cell_type": "code",
   "execution_count": 117,
   "metadata": {},
   "outputs": [
    {
     "data": {
      "image/png": "[encoded data removed]",
      "text/plain": [
       "<Figure size 1080x864 with 1 Axes>"
      ]
     },
     "metadata": {
      "needs_background": "light"
     },
     "output_type": "display_data"
    }
   ],
   "source": [
    "\n",
    "bert_time_box_scatter_gen = bert_stats['ga_generations']\n",
    "bert_time_box_scatter = bert_stats['ga_num_changes']\n",
    "scatter_plot_filename_b = 'ga_attack_results/scatter-plot-method_b.png'\n",
    "method_scatterplot(bert_time_box_scatter_gen,bert_time_box_scatter,scatter_plot_filename_b)\n"
   ]
  },
  {
   "cell_type": "markdown",
   "metadata": {},
   "source": [
    "# scatter plot for Method C"
   ]
  },
  {
   "cell_type": "code",
   "execution_count": 132,
   "metadata": {},
   "outputs": [
    {
     "data": {
      "image/png": "[encoded data removed]",
      "text/plain": [
       "<Figure size 1080x864 with 1 Axes>"
      ]
     },
     "metadata": {
      "needs_background": "light"
     },
     "output_type": "display_data"
    }
   ],
   "source": [
    "# MAXIMUM_ITERATIONS = 20 \n",
    "# bert_distance_gen = bert_distance_stats['ga_generations']\n",
    "# bert_distance_time_num_changed = bert_distance_stats['ga_num_changes']\n",
    "\n",
    "# for i in range(len(bert_distance_time_box_scatter_gen)):\n",
    "#     if bert_distance_time_num_changed[i] > 0 and bert_distance_gen[i] == 0:\n",
    "#         bert_distance_stats.at[i,'ga_generations'] = MAXIMUM_ITERATIONS\n",
    "\n",
    "\n",
    "\n",
    "bert_distance_time_box_scatter_gen = bert_distance_stats['ga_generations']\n",
    "bert_distance_time_box_scatter = bert_distance_stats['ga_num_changes']\n",
    "scatter_plot_filename_c = 'ga_attack_results/scatter-plot-method_c.png'\n",
    "method_scatterplot(bert_distance_time_box_scatter_gen,bert_distance_time_box_scatter,scatter_plot_filename_c)\n",
    "# need to clean data results - where generation is equal to zero - should be 20"
   ]
  }
 ],
 "metadata": {
  "kernelspec": {
   "display_name": "Python 3",
   "language": "python",
   "name": "python3"
  },
  "language_info": {
   "codemirror_mode": {
    "name": "ipython",
    "version": 3
   },
   "file_extension": ".py",
   "mimetype": "text/x-python",
   "name": "python",
   "nbconvert_exporter": "python",
   "pygments_lexer": "ipython3",
   "version": "3.8.2"
  }
 },
 "nbformat": 4,
 "nbformat_minor": 4
}
