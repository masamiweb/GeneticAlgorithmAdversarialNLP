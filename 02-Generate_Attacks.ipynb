{
 "cells": [
  {
   "cell_type": "code",
   "execution_count": 1,
   "metadata": {},
   "outputs": [],
   "source": [
    "import configparser\n",
    "import numpy as np\n",
    "import os\n",
    "import sys\n",
    "import tensorflow as tf"
   ]
  },
  {
   "cell_type": "code",
   "execution_count": 3,
   "metadata": {},
   "outputs": [],
   "source": [
    "# set to latest model version number\n",
    "\n",
    "def set_model_version_number():\n",
    "    version_number = []\n",
    "    global MODEL_VERSION\n",
    "    global MODEL_PATH\n",
    "\n",
    "    if os.path.exists(os.path.join(MODEL_SAVE_DIRECTORY,MODEL_NAME)):   \n",
    "        for entry in os.listdir(os.path.join(MODEL_SAVE_DIRECTORY,MODEL_NAME)):\n",
    "            version_number.append(entry)       \n",
    "        MODEL_VERSION = version_number[-1]\n",
    "        MODEL_PATH = os.path.join(MODEL_SAVE_DIRECTORY, MODEL_NAME, MODEL_VERSION)\n",
    "        "
   ]
  },
  {
   "cell_type": "code",
   "execution_count": 4,
   "metadata": {},
   "outputs": [],
   "source": [
    "\n",
    "config = configparser.ConfigParser()\n",
    "config.read('config/main.conf')\n",
    "\n",
    "DATASET = 1\n",
    "MODEL_VERSION =  \"0001\"\n",
    "DOWNLOAD_GOOGLE_LM = False\n",
    "\n",
    "if DATASET == 1:\n",
    "    set_dataset = \"imdb\"\n",
    "if DATASET == 2:\n",
    "    set_dataset = \"s140\"\n",
    "\n",
    "DATASET_URL = (config[set_dataset]['DATASET_URL'])\n",
    "\n",
    "DATASET_FOLDER = config[set_dataset]['DATASET_FOLDER']\n",
    "DATASET_TAR_FILE_NAME = config[set_dataset]['DATASET_TAR_FILE_NAME']\n",
    "DATASET_NAME = config[set_dataset]['DATASET_NAME']\n",
    "\n",
    "MODEL_NAME = config[set_dataset]['MODEL_NAME']\n",
    "\n",
    "CLEAN_DATA_FILE = os.path.join(DATASET_FOLDER,\"normalized_dataset.csv\")\n",
    "TAR_FILE_PATH = os.path.join(DATASET_FOLDER,DATASET_TAR_FILE_NAME)\n",
    "DATA_SET_LOCATION = os.path.join(DATASET_FOLDER,DATASET_NAME)\n",
    "\n",
    "MODEL_SAVE_DIRECTORY = config[set_dataset]['MODEL_SAVE_DIRECTORY']\n",
    "# Create the model save directory\n",
    "if not os.path.exists(MODEL_SAVE_DIRECTORY):\n",
    "    os.makedirs(MODEL_SAVE_DIRECTORY)\n",
    "    \n",
    "IMAGE_SAVE_FOLDER = config[set_dataset]['IMAGE_SAVE_FOLDER']\n",
    "    \n",
    "GLOVE_EMBEDDINGS = config[set_dataset]['GLOVE_EMBEDDINGS']\n",
    "COUNTER_FITTED_VECTORS = config[set_dataset]['COUNTER_FITTED_VECTORS']\n",
    "\n",
    "GLOVE_EMBEDDINGS_MATRIX = config[set_dataset]['GLOVE_EMBEDDINGS_MATRIX']\n",
    "COUNTER_FITTED_EMBEDDINGS_MATRIX = config[set_dataset]['COUNTER_FITTED_EMBEDDINGS_MATRIX']\n",
    "\n",
    "LM_URLS = config[set_dataset]['LM_URLS']\n",
    "LM_DIRECTORY = config[set_dataset]['LM_DIRECTORY']\n",
    "\n",
    "####### files required to reconstruct the final trained model ##############################\n",
    "MODEL_PATH = os.path.join(MODEL_SAVE_DIRECTORY, MODEL_NAME, MODEL_VERSION)\n",
    "\n",
    "set_model_version_number()\n",
    "\n",
    "ASSESTS_FOLDER = os.path.join(MODEL_PATH,\"assets\")\n",
    "MODEL_ASSETS_VOCABULARY_FILE = os.path.join(ASSESTS_FOLDER,\"vocab\")\n",
    "MODEL_ASSETS_EMBEDDINGS_FILE = os.path.join(ASSESTS_FOLDER,\"imdb_glove_embeddings_matrix\")\n",
    "MODEL_ASSETS_COUNTER_EMBEDDINGS_FILE = os.path.join(ASSESTS_FOLDER,\"counter_embeddings_matrix\")\n",
    "MODEL_ASSETS_DISTANCE_MATRIX = os.path.join(ASSESTS_FOLDER,\"distance_matrix.npy\")\n",
    "MODEL_ASSETS_SAVE_BEST_WEIGHTS = os.path.join(ASSESTS_FOLDER, \"cp.ckpt\")\n",
    "MODEL_TRAINING_HISORTY_FILE = os.path.join(ASSESTS_FOLDER, \"training_history.csv\")\n",
    "\n"
   ]
  },
  {
   "cell_type": "markdown",
   "metadata": {},
   "source": [
    "### load our pre trained sentiment model"
   ]
  },
  {
   "cell_type": "code",
   "execution_count": 5,
   "metadata": {},
   "outputs": [
    {
     "data": {
      "text/plain": [
       "<tensorflow.python.training.tracking.util.CheckpointLoadStatus at 0x7fb24c21c160>"
      ]
     },
     "execution_count": 5,
     "metadata": {},
     "output_type": "execute_result"
    }
   ],
   "source": [
    "from tensorflow.keras.layers.experimental.preprocessing import TextVectorization # in Tensorflow 2.1 and above\n",
    "import pickle \n",
    "\n",
    "MAX_VOCABULARY_SIZE = 50000\n",
    "DIMENSION = 300\n",
    "LEARNING_RATE = 1e-4\n",
    "\n",
    "\n",
    "from manny_modules import tf_normalize_data as tfnd\n",
    "from manny_modules import return_model as rmodel\n",
    "\n",
    "saved_vocab = pickle.load(open(MODEL_ASSETS_VOCABULARY_FILE, 'rb'))\n",
    "saved_word_index = dict(zip(saved_vocab, range(len(saved_vocab))))\n",
    "\n",
    "saved_embeddings_matric = pickle.load(open(MODEL_ASSETS_EMBEDDINGS_FILE, 'rb'))\n",
    "\n",
    "\n",
    "vectorizer_layer = TextVectorization(\n",
    "    standardize=tfnd.normlize_data, \n",
    "    max_tokens=MAX_VOCABULARY_SIZE, \n",
    "    output_mode='int',\n",
    "    output_sequence_length=300)\n",
    "\n",
    "# build vocabulary, will also run the normalize_data() \n",
    "vectorizer_layer.set_vocabulary(saved_vocab)\n",
    "\n",
    "\n",
    "saved_model = rmodel.create_model(vectorizer_layer,\n",
    "                                  saved_embeddings_matric,\n",
    "                                  saved_vocab,\n",
    "                                  dimension=DIMENSION, \n",
    "                                  lrate=LEARNING_RATE)\n",
    "\n",
    "# load the weights\n",
    "saved_model.load_weights(MODEL_ASSETS_SAVE_BEST_WEIGHTS) # loads best weights saved during training"
   ]
  },
  {
   "cell_type": "markdown",
   "metadata": {},
   "source": [
    "### Test model - check predictions for unseen data"
   ]
  },
  {
   "cell_type": "code",
   "execution_count": 6,
   "metadata": {},
   "outputs": [
    {
     "name": "stdout",
     "output_type": "stream",
     "text": [
      "Positive confidence:  [[0.01855881]]  Negative confidence:  [[0.9814412]]\n",
      "Positive confidence:  [[0.9553545]]  Negative confidence:  [[0.04464549]]\n"
     ]
    }
   ],
   "source": [
    "# check negative review\n",
    "p_2 = [[\"Seriously, don't bother if you're over 12. This looks like a kids show designed purely to sell merchandise, theme park rides, etc. No logic, holes all over the shop, no characters motivation and really crap acting to top it off... just rubbish, really\"]]\n",
    "prob_positive = saved_model.predict(p_2)\n",
    "\n",
    "print(\"Positive confidence: \",prob_positive, \" Negative confidence: \", (1 - prob_positive ))\n",
    "\n",
    "\n",
    "# check positive review\n",
    "p = [[\"It's one thing to bring back elements, characters, settings and stories, and to flash them in front of the audience to cash in on the nostalgia and/or recognisable memorabilia but without using it to further the plot and other to do exactly the opposite. It was about time that Star Wars directives understood that it is too unique a product to be lend to corporate filmmakers. Star Wars needs to be understood and its uniqueness has to be acknowledged in order to make the new stories feel like they belong. This may sound too obvious but if you ever wondered why the new SW movies are so controversial this may be the reason.Like with 'Spider-Man: Into the Spider-verse (2018)' and their comicbook-industry experts participation, the creators behind The Mandalorian were experts of the industry, connoisseurs of the Star Wars Universe and even long time fans. So they were able to not only recapture the aesthetic of the grimy, battered Star Wars but also build upon it taking the most 'subtle' things into account. Things like the predominancy of puppets and practical effects over CGI, settings you can feel and touch over green screens and the abundancy of not only known elements previously seen in Star Wars, but a whole batch of new creatures, designs and overall plot elements that felt like they belong to this universe and had always been there. Exceeding expectations are not only the visual aspects but the narrative too. It might be too late for some story elements now, but it is of great importance that from now on you try to watch the unraveling of the story unspoiled. I was lucky to have seen the premiere of the show before the 'memefication' of a certain 'element' that went viral and became one of the biggest highlights of the show. But for me I saw the reveal of this element unspoiled and I was pleasantly shocked, a memory I'll always carry with me. The ability of these creators to generate such shock value and deep moments it's often baffling to me. This is proof that the creators behind the narrative are fully aware of the complexities of the universe they are tampering with and like an experienced surgeon, they are able to tweak, traverse and call back any Star Wars element as they please and with astonishing results.\"]]\n",
    "prob_positive = saved_model.predict(p)\n",
    "\n",
    "print(\"Positive confidence: \",prob_positive, \" Negative confidence: \", (1 - prob_positive ))"
   ]
  },
  {
   "cell_type": "code",
   "execution_count": 776,
   "metadata": {},
   "outputs": [
    {
     "name": "stdout",
     "output_type": "stream",
     "text": [
      "[['some string']]\n"
     ]
    }
   ],
   "source": [
    "test_n = \"some string\"\n",
    "test_nn = [[test_n]]\n",
    "print(test_nn)"
   ]
  },
  {
   "cell_type": "markdown",
   "metadata": {},
   "source": [
    "### load the distance matrix from disk (load this before running below tests)\n",
    "- This is a large file (~20GB), so will take time to load"
   ]
  },
  {
   "cell_type": "code",
   "execution_count": 7,
   "metadata": {},
   "outputs": [],
   "source": [
    "\n",
    "impodistance_matrixumpy as np\n",
    "\n",
    "distance_matrix = np.load(MODEL_ASSETS_DISTANCE_MATRIX)\n",
    "\n"
   ]
  },
  {
   "cell_type": "markdown",
   "metadata": {},
   "source": [
    "### test the distance matrix"
   ]
  },
  {
   "cell_type": "code",
   "execution_count": 24,
   "metadata": {},
   "outputs": [],
   "source": [
    "target_word =  saved_word_index['england']"
   ]
  },
  {
   "cell_type": "code",
   "execution_count": 25,
   "metadata": {},
   "outputs": [],
   "source": [
    "from manny_modules import nearest_neighbour as nn\n",
    "\n",
    "nearest_neighbour, distance_to_neighbour = nn.closest_neighbours(target_word, distance_matrix, number_of_words_to_return=5, max_distance=None)"
   ]
  },
  {
   "cell_type": "code",
   "execution_count": 26,
   "metadata": {},
   "outputs": [
    {
     "name": "stdout",
     "output_type": "stream",
     "text": [
      "Words closest to `england` are `['british', 'britain', 'brits', 'uk', 'britons']` \n"
     ]
    }
   ],
   "source": [
    "closest_word = [saved_vocab[x] for x in nearest_neighbour]\n",
    "\n",
    "print(\"Words closest to `%s` are `%s` \" % (saved_vocab[target_word], closest_word))"
   ]
  },
  {
   "cell_type": "markdown",
   "metadata": {},
   "source": [
    "# Genetic Attack"
   ]
  },
  {
   "cell_type": "markdown",
   "metadata": {},
   "source": [
    "### load dataset"
   ]
  },
  {
   "cell_type": "code",
   "execution_count": 1905,
   "metadata": {},
   "outputs": [],
   "source": [
    "import pandas as pd\n",
    "\n",
    "dtypes = {'sentiment': 'int', 'text': 'str'}\n",
    "data_frame = pd.read_csv(CLEAN_DATA_FILE,dtype=dtypes)\n",
    "\n",
    "# split the dataset\n",
    "#train_data_raw, test_data_raw = train_test_split(data_frame, test_size= (1 - TRAINING_SPLIT), random_state = 7)"
   ]
  },
  {
   "cell_type": "markdown",
   "metadata": {},
   "source": [
    "### create a sample data set from dataframe of size ```SAMPLE_SIZE```"
   ]
  },
  {
   "cell_type": "code",
   "execution_count": 1906,
   "metadata": {},
   "outputs": [
    {
     "data": {
      "text/html": [
       "<div>\n",
       "<style scoped>\n",
       "    .dataframe tbody tr th:only-of-type {\n",
       "        vertical-align: middle;\n",
       "    }\n",
       "\n",
       "    .dataframe tbody tr th {\n",
       "        vertical-align: top;\n",
       "    }\n",
       "\n",
       "    .dataframe thead th {\n",
       "        text-align: right;\n",
       "    }\n",
       "</style>\n",
       "<table border=\"1\" class=\"dataframe\">\n",
       "  <thead>\n",
       "    <tr style=\"text-align: right;\">\n",
       "      <th></th>\n",
       "      <th>sentiment</th>\n",
       "      <th>text</th>\n",
       "    </tr>\n",
       "  </thead>\n",
       "  <tbody>\n",
       "    <tr>\n",
       "      <th>40285</th>\n",
       "      <td>1</td>\n",
       "      <td>it is first and foremost a chick flick  it is ...</td>\n",
       "    </tr>\n",
       "    <tr>\n",
       "      <th>47749</th>\n",
       "      <td>1</td>\n",
       "      <td>i'm guessing that we all  no matter if we are ...</td>\n",
       "    </tr>\n",
       "    <tr>\n",
       "      <th>28364</th>\n",
       "      <td>0</td>\n",
       "      <td>today i had a real craving for a scifi movie a...</td>\n",
       "    </tr>\n",
       "    <tr>\n",
       "      <th>5850</th>\n",
       "      <td>1</td>\n",
       "      <td>the kennel murder case starts off at a run and...</td>\n",
       "    </tr>\n",
       "    <tr>\n",
       "      <th>22974</th>\n",
       "      <td>1</td>\n",
       "      <td>one reason pixar has endured so well  and been...</td>\n",
       "    </tr>\n",
       "  </tbody>\n",
       "</table>\n",
       "</div>"
      ],
      "text/plain": [
       "       sentiment                                               text\n",
       "40285          1  it is first and foremost a chick flick  it is ...\n",
       "47749          1  i'm guessing that we all  no matter if we are ...\n",
       "28364          0  today i had a real craving for a scifi movie a...\n",
       "5850           1  the kennel murder case starts off at a run and...\n",
       "22974          1  one reason pixar has endured so well  and been..."
      ]
     },
     "execution_count": 1906,
     "metadata": {},
     "output_type": "execute_result"
    }
   ],
   "source": [
    "SAMPLE_SIZE = 1100\n",
    "\n",
    "data_sample = data_frame.sample(n = SAMPLE_SIZE) \n",
    "\n",
    "# show the first 5 randonly selected data items\n",
    "data_sample.head()"
   ]
  },
  {
   "cell_type": "markdown",
   "metadata": {},
   "source": [
    "### add a new column ```probs``` to our sample dataframe to store probability of text being positove (default values = 0)"
   ]
  },
  {
   "cell_type": "code",
   "execution_count": 1907,
   "metadata": {},
   "outputs": [
    {
     "data": {
      "text/html": [
       "<div>\n",
       "<style scoped>\n",
       "    .dataframe tbody tr th:only-of-type {\n",
       "        vertical-align: middle;\n",
       "    }\n",
       "\n",
       "    .dataframe tbody tr th {\n",
       "        vertical-align: top;\n",
       "    }\n",
       "\n",
       "    .dataframe thead th {\n",
       "        text-align: right;\n",
       "    }\n",
       "</style>\n",
       "<table border=\"1\" class=\"dataframe\">\n",
       "  <thead>\n",
       "    <tr style=\"text-align: right;\">\n",
       "      <th></th>\n",
       "      <th>sentiment</th>\n",
       "      <th>text</th>\n",
       "      <th>probs</th>\n",
       "    </tr>\n",
       "  </thead>\n",
       "  <tbody>\n",
       "    <tr>\n",
       "      <th>0</th>\n",
       "      <td>1</td>\n",
       "      <td>it is first and foremost a chick flick  it is ...</td>\n",
       "      <td>0.0</td>\n",
       "    </tr>\n",
       "    <tr>\n",
       "      <th>1</th>\n",
       "      <td>1</td>\n",
       "      <td>i'm guessing that we all  no matter if we are ...</td>\n",
       "      <td>0.0</td>\n",
       "    </tr>\n",
       "    <tr>\n",
       "      <th>2</th>\n",
       "      <td>0</td>\n",
       "      <td>today i had a real craving for a scifi movie a...</td>\n",
       "      <td>0.0</td>\n",
       "    </tr>\n",
       "    <tr>\n",
       "      <th>3</th>\n",
       "      <td>1</td>\n",
       "      <td>the kennel murder case starts off at a run and...</td>\n",
       "      <td>0.0</td>\n",
       "    </tr>\n",
       "    <tr>\n",
       "      <th>4</th>\n",
       "      <td>1</td>\n",
       "      <td>one reason pixar has endured so well  and been...</td>\n",
       "      <td>0.0</td>\n",
       "    </tr>\n",
       "  </tbody>\n",
       "</table>\n",
       "</div>"
      ],
      "text/plain": [
       "   sentiment                                               text  probs\n",
       "0          1  it is first and foremost a chick flick  it is ...    0.0\n",
       "1          1  i'm guessing that we all  no matter if we are ...    0.0\n",
       "2          0  today i had a real craving for a scifi movie a...    0.0\n",
       "3          1  the kennel murder case starts off at a run and...    0.0\n",
       "4          1  one reason pixar has endured so well  and been...    0.0"
      ]
     },
     "execution_count": 1907,
     "metadata": {},
     "output_type": "execute_result"
    }
   ],
   "source": [
    "data_sample['probs'] = 0\n",
    "data_sample['probs'] = data_sample['probs'].astype(float) # has to be of type float, to store probability values\n",
    "\n",
    "data_sample = data_sample.reset_index(drop=True) # reindex so we start from 0 in the sample data set\n",
    "data_sample.head()"
   ]
  },
  {
   "cell_type": "markdown",
   "metadata": {},
   "source": [
    "### now run each one against model and store probabilities"
   ]
  },
  {
   "cell_type": "code",
   "execution_count": 1908,
   "metadata": {},
   "outputs": [
    {
     "data": {
      "text/html": [
       "<div>\n",
       "<style scoped>\n",
       "    .dataframe tbody tr th:only-of-type {\n",
       "        vertical-align: middle;\n",
       "    }\n",
       "\n",
       "    .dataframe tbody tr th {\n",
       "        vertical-align: top;\n",
       "    }\n",
       "\n",
       "    .dataframe thead th {\n",
       "        text-align: right;\n",
       "    }\n",
       "</style>\n",
       "<table border=\"1\" class=\"dataframe\">\n",
       "  <thead>\n",
       "    <tr style=\"text-align: right;\">\n",
       "      <th></th>\n",
       "      <th>sentiment</th>\n",
       "      <th>text</th>\n",
       "      <th>probs</th>\n",
       "    </tr>\n",
       "  </thead>\n",
       "  <tbody>\n",
       "    <tr>\n",
       "      <th>0</th>\n",
       "      <td>1</td>\n",
       "      <td>it is first and foremost a chick flick  it is ...</td>\n",
       "      <td>0.917392</td>\n",
       "    </tr>\n",
       "    <tr>\n",
       "      <th>1</th>\n",
       "      <td>1</td>\n",
       "      <td>i'm guessing that we all  no matter if we are ...</td>\n",
       "      <td>0.623475</td>\n",
       "    </tr>\n",
       "    <tr>\n",
       "      <th>2</th>\n",
       "      <td>0</td>\n",
       "      <td>today i had a real craving for a scifi movie a...</td>\n",
       "      <td>0.004375</td>\n",
       "    </tr>\n",
       "    <tr>\n",
       "      <th>3</th>\n",
       "      <td>1</td>\n",
       "      <td>the kennel murder case starts off at a run and...</td>\n",
       "      <td>0.973507</td>\n",
       "    </tr>\n",
       "    <tr>\n",
       "      <th>4</th>\n",
       "      <td>1</td>\n",
       "      <td>one reason pixar has endured so well  and been...</td>\n",
       "      <td>0.985845</td>\n",
       "    </tr>\n",
       "  </tbody>\n",
       "</table>\n",
       "</div>"
      ],
      "text/plain": [
       "   sentiment                                               text     probs\n",
       "0          1  it is first and foremost a chick flick  it is ...  0.917392\n",
       "1          1  i'm guessing that we all  no matter if we are ...  0.623475\n",
       "2          0  today i had a real craving for a scifi movie a...  0.004375\n",
       "3          1  the kennel murder case starts off at a run and...  0.973507\n",
       "4          1  one reason pixar has endured so well  and been...  0.985845"
      ]
     },
     "execution_count": 1908,
     "metadata": {},
     "output_type": "execute_result"
    }
   ],
   "source": [
    "for i in data_sample.index:\n",
    "    p = saved_model.predict([data_sample.iloc[i]['text']])\n",
    "    data_sample.at[i,'probs']= p\n",
    "\n",
    "data_sample.head()"
   ]
  },
  {
   "cell_type": "markdown",
   "metadata": {},
   "source": [
    "### add new columns to hold results after genetic attack"
   ]
  },
  {
   "cell_type": "code",
   "execution_count": 1909,
   "metadata": {},
   "outputs": [
    {
     "data": {
      "text/html": [
       "<div>\n",
       "<style scoped>\n",
       "    .dataframe tbody tr th:only-of-type {\n",
       "        vertical-align: middle;\n",
       "    }\n",
       "\n",
       "    .dataframe tbody tr th {\n",
       "        vertical-align: top;\n",
       "    }\n",
       "\n",
       "    .dataframe thead th {\n",
       "        text-align: right;\n",
       "    }\n",
       "</style>\n",
       "<table border=\"1\" class=\"dataframe\">\n",
       "  <thead>\n",
       "    <tr style=\"text-align: right;\">\n",
       "      <th></th>\n",
       "      <th>sentiment</th>\n",
       "      <th>text</th>\n",
       "      <th>probs</th>\n",
       "      <th>ga_sentiment</th>\n",
       "      <th>ga_text</th>\n",
       "      <th>ga_probs</th>\n",
       "      <th>ga_num_changes</th>\n",
       "      <th>ga_lev_ratio</th>\n",
       "      <th>ga_flipped_sentiment</th>\n",
       "    </tr>\n",
       "  </thead>\n",
       "  <tbody>\n",
       "    <tr>\n",
       "      <th>0</th>\n",
       "      <td>1</td>\n",
       "      <td>it is first and foremost a chick flick  it is ...</td>\n",
       "      <td>0.917392</td>\n",
       "      <td>1</td>\n",
       "      <td></td>\n",
       "      <td>0.917392</td>\n",
       "      <td>0</td>\n",
       "      <td>0.0</td>\n",
       "      <td>N</td>\n",
       "    </tr>\n",
       "    <tr>\n",
       "      <th>1</th>\n",
       "      <td>1</td>\n",
       "      <td>i'm guessing that we all  no matter if we are ...</td>\n",
       "      <td>0.623475</td>\n",
       "      <td>1</td>\n",
       "      <td></td>\n",
       "      <td>0.623475</td>\n",
       "      <td>0</td>\n",
       "      <td>0.0</td>\n",
       "      <td>N</td>\n",
       "    </tr>\n",
       "    <tr>\n",
       "      <th>2</th>\n",
       "      <td>0</td>\n",
       "      <td>today i had a real craving for a scifi movie a...</td>\n",
       "      <td>0.004375</td>\n",
       "      <td>0</td>\n",
       "      <td></td>\n",
       "      <td>0.004375</td>\n",
       "      <td>0</td>\n",
       "      <td>0.0</td>\n",
       "      <td>N</td>\n",
       "    </tr>\n",
       "    <tr>\n",
       "      <th>3</th>\n",
       "      <td>1</td>\n",
       "      <td>the kennel murder case starts off at a run and...</td>\n",
       "      <td>0.973507</td>\n",
       "      <td>1</td>\n",
       "      <td></td>\n",
       "      <td>0.973507</td>\n",
       "      <td>0</td>\n",
       "      <td>0.0</td>\n",
       "      <td>N</td>\n",
       "    </tr>\n",
       "    <tr>\n",
       "      <th>4</th>\n",
       "      <td>1</td>\n",
       "      <td>one reason pixar has endured so well  and been...</td>\n",
       "      <td>0.985845</td>\n",
       "      <td>1</td>\n",
       "      <td></td>\n",
       "      <td>0.985845</td>\n",
       "      <td>0</td>\n",
       "      <td>0.0</td>\n",
       "      <td>N</td>\n",
       "    </tr>\n",
       "  </tbody>\n",
       "</table>\n",
       "</div>"
      ],
      "text/plain": [
       "   sentiment                                               text     probs  \\\n",
       "0          1  it is first and foremost a chick flick  it is ...  0.917392   \n",
       "1          1  i'm guessing that we all  no matter if we are ...  0.623475   \n",
       "2          0  today i had a real craving for a scifi movie a...  0.004375   \n",
       "3          1  the kennel murder case starts off at a run and...  0.973507   \n",
       "4          1  one reason pixar has endured so well  and been...  0.985845   \n",
       "\n",
       "   ga_sentiment ga_text  ga_probs  ga_num_changes  ga_lev_ratio  \\\n",
       "0             1          0.917392               0           0.0   \n",
       "1             1          0.623475               0           0.0   \n",
       "2             0          0.004375               0           0.0   \n",
       "3             1          0.973507               0           0.0   \n",
       "4             1          0.985845               0           0.0   \n",
       "\n",
       "  ga_flipped_sentiment  \n",
       "0                    N  \n",
       "1                    N  \n",
       "2                    N  \n",
       "3                    N  \n",
       "4                    N  "
      ]
     },
     "execution_count": 1909,
     "metadata": {},
     "output_type": "execute_result"
    }
   ],
   "source": [
    "# copy current sentiment values to new columns, we can then later go through and compare any values that have been changed during the GA attack\n",
    "data_sample['ga_sentiment'] = data_sample['sentiment']\n",
    "\n",
    "# create new ga_text to hold perturbed text\n",
    "data_sample['ga_text'] = \"\"\n",
    "\n",
    "# create ga_probs to hold new probability values after GA Attack, fill with current values\n",
    "data_sample['ga_probs'] = data_sample['probs']\n",
    "\n",
    "# create ga_num_changes to hold the number of words changed\n",
    "data_sample['ga_num_changes'] = 0\n",
    "data_sample['ga_num_changes'] = data_sample['ga_num_changes'].astype(int)\n",
    "\n",
    "# create ga_lev_ratio to hold the Levenshtein ratio\n",
    "data_sample['ga_lev_ratio'] = 0.0\n",
    "data_sample['ga_lev_ratio'] = data_sample['ga_lev_ratio'].astype(float)\n",
    "\n",
    "# add field to indicate if sentiment was flipped on review text\n",
    "data_sample['ga_flipped_sentiment'] = 'N'\n",
    "data_sample['ga_flipped_sentiment'] = data_sample['ga_flipped_sentiment'].astype(str)\n",
    "\n",
    "\n",
    "# percentage of words changed in sentence\n",
    "data_sample['ga_percent_change'] = 0.0\n",
    "data_sample['ga_percent_change'] = data_sample['ga_percent_change'].astype(float)\n",
    "\n",
    "\n",
    "\n",
    "data_sample.head()"
   ]
  },
  {
   "cell_type": "markdown",
   "metadata": {},
   "source": [
    "## check the predictions are correct, if not then drop row from data set\n",
    "### we only want to keep correctly classified data items"
   ]
  },
  {
   "cell_type": "code",
   "execution_count": 1910,
   "metadata": {},
   "outputs": [],
   "source": [
    "drop_indexes = []\n",
    "\n",
    "for i in data_sample.index:\n",
    "    if data_sample.iloc[i]['sentiment'] == 1 and data_sample.iloc[i]['probs'] > 0.5:\n",
    "        continue\n",
    "    if data_sample.iloc[i]['sentiment'] == 0 and data_sample.iloc[i]['probs'] <= 0.5:\n",
    "        continue\n",
    "    else:\n",
    "        drop_indexes.append(i)\n",
    "    "
   ]
  },
  {
   "cell_type": "code",
   "execution_count": 1911,
   "metadata": {},
   "outputs": [
    {
     "name": "stdout",
     "output_type": "stream",
     "text": [
      "Number of data items dropped from sample:  56\n",
      "Number of data items kept in sample:  944\n"
     ]
    }
   ],
   "source": [
    "data_sample = data_sample.drop(drop_indexes)\n",
    "data_sample = data_sample.reset_index(drop=True) # reindex dataframe to start from 0\n",
    "\n",
    "# check how many rows we dropped due to incorrect classification\n",
    "print(\"Number of data items dropped from sample: \",(SAMPLE_SIZE - len(data_sample)))\n",
    "print(\"Number of data items kept in sample: \",(len(data_sample)))"
   ]
  },
  {
   "cell_type": "markdown",
   "metadata": {},
   "source": [
    "### GA functions "
   ]
  },
  {
   "cell_type": "code",
   "execution_count": 1912,
   "metadata": {},
   "outputs": [],
   "source": [
    "from random import randrange\n",
    "import nltk\n",
    "from nltk.corpus import stopwords\n",
    "\n",
    "stop_words = set(stopwords.words('english')) \n",
    "\n",
    "def prediction_probability(model, text_review):\n",
    "    '''return probability of this string being a positive sentiment'''\n",
    "    return model.predict([text_review])\n",
    "\n",
    "\n",
    "def crossover(parent_one, parent_two):\n",
    "    p_one = parent_one.split()\n",
    "    p_two = parent_two.split()\n",
    "    \n",
    "    new_offspring = p_one.copy()\n",
    "    text_len = min(len(new_offspring), len(p_two))\n",
    "    # use random univform distribution to select which words to replace \n",
    "    # when creating the new offspring for our two parent strings\n",
    "    for i in range(text_len):\n",
    "        if np.random.uniform() < 0.5:\n",
    "            new_offspring[i] = p_two[i]\n",
    "    return ' '.join(new_offspring)\n",
    "    \n",
    "    \n",
    "def mutation(model, text_review, current_prediction, target_label, max_perturbations, max_neighbours, saved_vocab):\n",
    "    '''returns the string after swapping max_perturbations nearest neighbours\n",
    "    of each string'''\n",
    "    \n",
    "    # keep track of list index of the which word we have already changed\n",
    "    selected_index = []\n",
    "    \n",
    "    #split string so we can iterate over each word\n",
    "    t_split = text_review.split()\n",
    "    \n",
    "    # select a random index value\n",
    "    indx = randrange(len(t_split))\n",
    "    \n",
    "    for i in range(max_perturbations):\n",
    "        # get a random index number for word list\n",
    "        indx = randrange(len(t_split))\n",
    "        \n",
    "        found_in_vocab = False\n",
    "        # skip over all stop words and any indexes we have already selected\n",
    "        while t_split[indx] in stop_words or indx in selected_index  or not found_in_vocab:     \n",
    "            \n",
    "            indx = randrange(len(t_split))\n",
    "            # if word is not found in vocabulary, skip it and try next word\n",
    "            try:\n",
    "                target_word = saved_word_index[t_split[indx]]\n",
    "                found_in_vocab = True\n",
    "            except KeyError:\n",
    "                found_in_vocab = False\n",
    "        \n",
    "        # now we have a word that is not a stop word and has not already been selected\n",
    "        selected_index.append(indx) # add to our list\n",
    "        \n",
    "        \n",
    "        ### FITNESS TEST #########\n",
    "        # we want to now get a list of the closest max_neighbours synonyms\n",
    "        target_word = saved_word_index[t_split[indx]]\n",
    "     \n",
    "        nearest_neighbour, _ = nn.closest_neighbours(target_word, distance_matrix, number_of_words_to_return=max_neighbours)\n",
    "        \n",
    "        # create a list of the closest words returned\n",
    "        closest_word = [saved_vocab[x] for x in nearest_neighbour]\n",
    "        \n",
    "        # now we need to substitute each word and find the new probability after each substitution\n",
    "        # we need the original label and the target label we are aiming for\n",
    "       \n",
    "        original_word = t_split[indx]\n",
    "        word_prob_dict = dict()\n",
    "        for w in closest_word:\n",
    "            if not w: # if we have an empty string then do nothing, we don't want to remove a word from the string\n",
    "                continue\n",
    "            t_split[indx] = w\n",
    "            word_prob_dict[w] = model.predict([' '.join(t_split)])\n",
    "            \n",
    "        # didn't find any suitable words\n",
    "        if len(word_prob_dict) == 0:\n",
    "            continue\n",
    "        \n",
    "        # the word we decided to substitute is based on the probability returned by the model\n",
    "        # if we have target_label == 1 then we are trying to go from negative to positive sentiment\n",
    "        # therefore we want to keep the highest probability returned\n",
    "        # NB the probability returned by our model is the probability that the review is positive, higher values == more positive sentiment\n",
    "        if target_label == 1:\n",
    "            sub_word = max(word_prob_dict, key=word_prob_dict.get)\n",
    "            t_split[indx] = sub_word\n",
    "            \n",
    "        # if our target_label == 0 i.e. negative, then we are going from positive to negative\n",
    "        # hence we want to keep only the lowest value\n",
    "        else:\n",
    "            sub_word = min(word_prob_dict, key=word_prob_dict.get)\n",
    "            t_split[indx] = sub_word\n",
    "        \n",
    "        ### END FITNESS TEST ##########\n",
    "        \n",
    "        # add selected index to selected_index list\n",
    "        selected_index.append(indx)\n",
    "\n",
    "    return ' '.join(t_split)\n",
    "    \n",
    "\n",
    "def generate_population(model, text_review, population_size, current_prediction, target_label, max_perturbations, max_neighbours, saved_vocab):\n",
    "    \n",
    "    '''return list of strings of size population_size'''\n",
    "    \n",
    "    population = []\n",
    "    \n",
    "    for i in range(population_size):\n",
    "        t = mutation(model, text_review, current_prediction, target_label, max_perturbations, max_neighbours, saved_vocab)\n",
    "        population.append(t)\n",
    "    return population\n",
    "\n"
   ]
  },
  {
   "cell_type": "code",
   "execution_count": 1926,
   "metadata": {},
   "outputs": [],
   "source": [
    "import Levenshtein as lev\n",
    "\n",
    "POPULATION_SIZE = 50 # max population size to create\n",
    "MAXIMUM_ITERATIONS = 25 # stopping condition for loop if we do not find an optimal solution\n",
    "MAX_PERTURBATIONS = 5 # maximum number of changes to make for each population member\n",
    "MAX_NEIGHBOURS = 4 # maximum number of neighbouring words to return and check against\n",
    "\n",
    "\n",
    "\n",
    "def population_probs_df(population_list, model):\n",
    "    # dataframe to store population text and probabilities\n",
    "    population_probs = pd.DataFrame(columns=['ga_text','ga_probs'])\n",
    "    \n",
    "\n",
    "    # make sure columns have the correct types\n",
    "    population_probs['ga_text'] = population_probs['ga_text'].astype(str)\n",
    "    population_probs['ga_probs'] = population_probs['ga_probs'].astype(float)\n",
    "    \n",
    "    for i in range(len(population_list)):\n",
    "        new_row = {'ga_text':population_list[i], 'ga_probs':model.predict([population_list[i]])}\n",
    "        #append row to the dataframe\n",
    "        population_probs = population_probs.append(new_row, ignore_index=True)\n",
    "    \n",
    "    # sort the array by probabilities column, i.e column 2 \n",
    "    return  population_probs.sort_values('ga_probs') # return sorted df, sorted by probability lowest to highest\n",
    "    \n",
    "\n",
    "def found_solution(target_label, population_df):\n",
    "    \n",
    "    if target_label == 1:\n",
    "        if population_df.iloc[-1]['ga_probs'] > 0.5:\n",
    "            return True\n",
    "    \n",
    "    if target_label == 0:\n",
    "        if population_df.iloc[0]['ga_probs'] <= 0.5:\n",
    "            return True \n",
    "    return False\n",
    "\n",
    "\n",
    "data_sample_len = len(data_sample)\n",
    "for i in range (data_sample_len):\n",
    "    \n",
    "    target_label = 0 if data_sample.iloc[i]['sentiment'] == 1 else 1\n",
    "    current_prediction = data_sample.iloc[i]['probs']\n",
    "    \n",
    "    p = generate_population(saved_model, data_sample.iloc[i]['text'], POPULATION_SIZE, current_prediction, target_label, MAX_PERTURBATIONS, MAX_NEIGHBOURS, saved_vocab)\n",
    "    \n",
    "    population_dataframe = population_probs_df(p, saved_model)\n",
    "\n",
    "    \n",
    "    ## GA Attack START\n",
    "    # need to run through and do crossover and mutation, recheck the label and if it has flipped then we stop, other wise keep going\n",
    "    # also on each iteration keep updating the ga_text and ga_prob and if label has changed update the ga_sentiment column and stop\n",
    "    for j in range(MAXIMUM_ITERATIONS):\n",
    "        \n",
    "        # first check if we have found a solution, if yes then we are done so save results and break\n",
    "        # and move onto next\n",
    "        if found_solution(target_label, population_dataframe):\n",
    "            #save solution\n",
    "            if target_label == 1:   \n",
    "                data_sample.at[i, \"ga_text\"] = population_dataframe.iloc[-1]['ga_text']\n",
    "                data_sample.at[i, \"ga_probs\"] = population_dataframe.iloc[-1]['ga_probs']\n",
    "                data_sample.at[i, \"ga_sentiment\"] = 1\n",
    "                break\n",
    "            if target_label == 0:\n",
    "                data_sample.at[i, \"ga_text\"] = population_dataframe.iloc[0]['ga_text']\n",
    "                data_sample.at[i, \"ga_probs\"] = population_dataframe.iloc[0]['ga_probs']\n",
    "                data_sample.at[i, \"ga_sentiment\"] = 0\n",
    "                break\n",
    "        \n",
    "        # limit max percentage change to 20% of each review\n",
    "        if round(1 - (lev.ratio(data_sample.at[0,'text'],data_sample.at[0,'ga_text'])), 2) > 0.20:\n",
    "            data_sample.at[i, \"ga_text\"] = population_dataframe.iloc[-1]['ga_text']\n",
    "            data_sample.at[i, \"ga_probs\"] = population_dataframe.iloc[-1]['ga_probs']\n",
    "            break\n",
    "            \n",
    "        \n",
    "        if target_label == 1:\n",
    "            parent_one = population_dataframe.iloc[-1]['ga_text']\n",
    "            parent_two = population_dataframe.iloc[-2]['ga_text']\n",
    "        else: \n",
    "            parent_one = population_dataframe.iloc[0]['ga_text']\n",
    "            parent_two = population_dataframe.iloc[1]['ga_text']\n",
    "        \n",
    "        \n",
    "        if target_label == 1 and (data_sample.iloc[i]['ga_probs'] < population_dataframe.iloc[-1]['ga_probs']):\n",
    "            data_sample.at[i, \"ga_text\"] = population_dataframe.iloc[-1]['ga_text']\n",
    "            data_sample.at[i, \"ga_probs\"] = population_dataframe.iloc[-1]['ga_probs']\n",
    "            \n",
    "        if target_label == 0 and (data_sample.iloc[i]['ga_probs'] > population_dataframe.iloc[0]['ga_probs']):\n",
    "            data_sample.at[i, \"ga_text\"]  = population_dataframe.iloc[0]['ga_text']\n",
    "            data_sample.at[i, \"ga_probs\"] = population_dataframe.iloc[0]['ga_probs']\n",
    "        \n",
    "        # \n",
    "        t = crossover(parent_one, parent_two)\n",
    "        \n",
    "        # we didn't find a solution yet, so we do crossover and generate a new population of possible solutions\n",
    "        p = generate_population(saved_model, t, POPULATION_SIZE, current_prediction, target_label, MAX_PERTURBATIONS, MAX_NEIGHBOURS, saved_vocab)\n",
    "        population_dataframe = population_probs_df(p, saved_model)\n",
    "    \n",
    "       \n"
   ]
  },
  {
   "cell_type": "markdown",
   "metadata": {},
   "source": [
    "### save the results after running GA Attack"
   ]
  },
  {
   "cell_type": "code",
   "execution_count": 1969,
   "metadata": {},
   "outputs": [],
   "source": [
    "# save the final set of results\n",
    "data_sample.to_csv('imdb_dataset/ga_results.csv', index = False)\n",
    "\n",
    "# load saved file, so we can remove any results that were not processed due to Jupyter notebook crash\n",
    "dtypes = {'sentiment': 'int', \n",
    "          'text': 'str', \n",
    "          'probs': 'float', \n",
    "          'ga_sentiment': 'int', \n",
    "          'ga_text': 'str',\n",
    "          'ga_probs': 'float', \n",
    "          'ga_num_changes': 'int', \n",
    "          'ga_lev_ratio': 'float', \n",
    "          'ga_flipped_sentiment': 'str',\n",
    "         'ga_percent_change': 'float'}\n",
    "\n",
    "data_sample = pd.read_csv('imdb_dataset/ga_results.csv', dtype=dtypes)\n",
    "\n",
    "# drop any rows with nan value - i.e. data items not processed due to Jupyter notebook crash\n",
    "# so we don't have to re-run the whole GA Attack again\n",
    "data_sample = data_sample.dropna()\n",
    "\n",
    "# save the final set of results\n",
    "data_sample.to_csv('imdb_dataset/ga_results.csv', index = False)\n"
   ]
  },
  {
   "cell_type": "markdown",
   "metadata": {},
   "source": [
    "### number of test data items processed during GA Attack"
   ]
  },
  {
   "cell_type": "code",
   "execution_count": 1915,
   "metadata": {},
   "outputs": [
    {
     "name": "stdout",
     "output_type": "stream",
     "text": [
      "Number of data items processed in GA Attack:  616\n"
     ]
    }
   ],
   "source": [
    "print(\"Number of data items processed in GA Attack: \", len(data_sample))"
   ]
  },
  {
   "cell_type": "code",
   "execution_count": 1916,
   "metadata": {},
   "outputs": [
    {
     "data": {
      "text/html": [
       "<div>\n",
       "<style scoped>\n",
       "    .dataframe tbody tr th:only-of-type {\n",
       "        vertical-align: middle;\n",
       "    }\n",
       "\n",
       "    .dataframe tbody tr th {\n",
       "        vertical-align: top;\n",
       "    }\n",
       "\n",
       "    .dataframe thead th {\n",
       "        text-align: right;\n",
       "    }\n",
       "</style>\n",
       "<table border=\"1\" class=\"dataframe\">\n",
       "  <thead>\n",
       "    <tr style=\"text-align: right;\">\n",
       "      <th></th>\n",
       "      <th>sentiment</th>\n",
       "      <th>text</th>\n",
       "      <th>probs</th>\n",
       "      <th>ga_sentiment</th>\n",
       "      <th>ga_text</th>\n",
       "      <th>ga_probs</th>\n",
       "      <th>ga_num_changes</th>\n",
       "      <th>ga_lev_ratio</th>\n",
       "      <th>ga_flipped_sentiment</th>\n",
       "    </tr>\n",
       "  </thead>\n",
       "  <tbody>\n",
       "    <tr>\n",
       "      <th>0</th>\n",
       "      <td>1</td>\n",
       "      <td>it is first and foremost a chick flick  it is ...</td>\n",
       "      <td>0.917392</td>\n",
       "      <td>0</td>\n",
       "      <td>it is first and foremost a chick flick it is a...</td>\n",
       "      <td>0.316359</td>\n",
       "      <td>0</td>\n",
       "      <td>0.0</td>\n",
       "      <td>N</td>\n",
       "    </tr>\n",
       "    <tr>\n",
       "      <th>1</th>\n",
       "      <td>1</td>\n",
       "      <td>i'm guessing that we all  no matter if we are ...</td>\n",
       "      <td>0.623475</td>\n",
       "      <td>0</td>\n",
       "      <td>i'm guessing that we all no matter if we are f...</td>\n",
       "      <td>0.368994</td>\n",
       "      <td>0</td>\n",
       "      <td>0.0</td>\n",
       "      <td>N</td>\n",
       "    </tr>\n",
       "    <tr>\n",
       "      <th>2</th>\n",
       "      <td>0</td>\n",
       "      <td>today i had a real craving for a scifi movie a...</td>\n",
       "      <td>0.004375</td>\n",
       "      <td>1</td>\n",
       "      <td>today i had a veritable craving for a scifi mo...</td>\n",
       "      <td>0.594624</td>\n",
       "      <td>0</td>\n",
       "      <td>0.0</td>\n",
       "      <td>N</td>\n",
       "    </tr>\n",
       "    <tr>\n",
       "      <th>3</th>\n",
       "      <td>1</td>\n",
       "      <td>the kennel murder case starts off at a run and...</td>\n",
       "      <td>0.973507</td>\n",
       "      <td>0</td>\n",
       "      <td>the pounds murder lawsuit starts off at a run ...</td>\n",
       "      <td>0.131199</td>\n",
       "      <td>0</td>\n",
       "      <td>0.0</td>\n",
       "      <td>N</td>\n",
       "    </tr>\n",
       "    <tr>\n",
       "      <th>4</th>\n",
       "      <td>1</td>\n",
       "      <td>one reason pixar has endured so well  and been...</td>\n",
       "      <td>0.985845</td>\n",
       "      <td>0</td>\n",
       "      <td>one reason pixar has experimented so well and ...</td>\n",
       "      <td>0.262389</td>\n",
       "      <td>0</td>\n",
       "      <td>0.0</td>\n",
       "      <td>N</td>\n",
       "    </tr>\n",
       "  </tbody>\n",
       "</table>\n",
       "</div>"
      ],
      "text/plain": [
       "   sentiment                                               text     probs  \\\n",
       "0          1  it is first and foremost a chick flick  it is ...  0.917392   \n",
       "1          1  i'm guessing that we all  no matter if we are ...  0.623475   \n",
       "2          0  today i had a real craving for a scifi movie a...  0.004375   \n",
       "3          1  the kennel murder case starts off at a run and...  0.973507   \n",
       "4          1  one reason pixar has endured so well  and been...  0.985845   \n",
       "\n",
       "   ga_sentiment                                            ga_text  ga_probs  \\\n",
       "0             0  it is first and foremost a chick flick it is a...  0.316359   \n",
       "1             0  i'm guessing that we all no matter if we are f...  0.368994   \n",
       "2             1  today i had a veritable craving for a scifi mo...  0.594624   \n",
       "3             0  the pounds murder lawsuit starts off at a run ...  0.131199   \n",
       "4             0  one reason pixar has experimented so well and ...  0.262389   \n",
       "\n",
       "   ga_num_changes  ga_lev_ratio ga_flipped_sentiment  \n",
       "0               0           0.0                    N  \n",
       "1               0           0.0                    N  \n",
       "2               0           0.0                    N  \n",
       "3               0           0.0                    N  \n",
       "4               0           0.0                    N  "
      ]
     },
     "execution_count": 1916,
     "metadata": {},
     "output_type": "execute_result"
    }
   ],
   "source": [
    "data_sample.head()"
   ]
  },
  {
   "cell_type": "markdown",
   "metadata": {},
   "source": [
    "### calculate Levenshtein ratio statistics for before and after GA Attack"
   ]
  },
  {
   "cell_type": "code",
   "execution_count": 1917,
   "metadata": {},
   "outputs": [
    {
     "data": {
      "text/html": [
       "<div>\n",
       "<style scoped>\n",
       "    .dataframe tbody tr th:only-of-type {\n",
       "        vertical-align: middle;\n",
       "    }\n",
       "\n",
       "    .dataframe tbody tr th {\n",
       "        vertical-align: top;\n",
       "    }\n",
       "\n",
       "    .dataframe thead th {\n",
       "        text-align: right;\n",
       "    }\n",
       "</style>\n",
       "<table border=\"1\" class=\"dataframe\">\n",
       "  <thead>\n",
       "    <tr style=\"text-align: right;\">\n",
       "      <th></th>\n",
       "      <th>sentiment</th>\n",
       "      <th>text</th>\n",
       "      <th>probs</th>\n",
       "      <th>ga_sentiment</th>\n",
       "      <th>ga_text</th>\n",
       "      <th>ga_probs</th>\n",
       "      <th>ga_num_changes</th>\n",
       "      <th>ga_lev_ratio</th>\n",
       "      <th>ga_flipped_sentiment</th>\n",
       "    </tr>\n",
       "  </thead>\n",
       "  <tbody>\n",
       "    <tr>\n",
       "      <th>0</th>\n",
       "      <td>1</td>\n",
       "      <td>it is first and foremost a chick flick  it is ...</td>\n",
       "      <td>0.917392</td>\n",
       "      <td>0</td>\n",
       "      <td>it is first and foremost a chick flick it is a...</td>\n",
       "      <td>0.316359</td>\n",
       "      <td>0</td>\n",
       "      <td>0.915202</td>\n",
       "      <td>N</td>\n",
       "    </tr>\n",
       "    <tr>\n",
       "      <th>1</th>\n",
       "      <td>1</td>\n",
       "      <td>i'm guessing that we all  no matter if we are ...</td>\n",
       "      <td>0.623475</td>\n",
       "      <td>0</td>\n",
       "      <td>i'm guessing that we all no matter if we are f...</td>\n",
       "      <td>0.368994</td>\n",
       "      <td>0</td>\n",
       "      <td>0.977500</td>\n",
       "      <td>N</td>\n",
       "    </tr>\n",
       "    <tr>\n",
       "      <th>2</th>\n",
       "      <td>0</td>\n",
       "      <td>today i had a real craving for a scifi movie a...</td>\n",
       "      <td>0.004375</td>\n",
       "      <td>1</td>\n",
       "      <td>today i had a veritable craving for a scifi mo...</td>\n",
       "      <td>0.594624</td>\n",
       "      <td>0</td>\n",
       "      <td>0.925351</td>\n",
       "      <td>N</td>\n",
       "    </tr>\n",
       "    <tr>\n",
       "      <th>3</th>\n",
       "      <td>1</td>\n",
       "      <td>the kennel murder case starts off at a run and...</td>\n",
       "      <td>0.973507</td>\n",
       "      <td>0</td>\n",
       "      <td>the pounds murder lawsuit starts off at a run ...</td>\n",
       "      <td>0.131199</td>\n",
       "      <td>0</td>\n",
       "      <td>0.879293</td>\n",
       "      <td>N</td>\n",
       "    </tr>\n",
       "    <tr>\n",
       "      <th>4</th>\n",
       "      <td>1</td>\n",
       "      <td>one reason pixar has endured so well  and been...</td>\n",
       "      <td>0.985845</td>\n",
       "      <td>0</td>\n",
       "      <td>one reason pixar has experimented so well and ...</td>\n",
       "      <td>0.262389</td>\n",
       "      <td>0</td>\n",
       "      <td>0.963300</td>\n",
       "      <td>N</td>\n",
       "    </tr>\n",
       "  </tbody>\n",
       "</table>\n",
       "</div>"
      ],
      "text/plain": [
       "   sentiment                                               text     probs  \\\n",
       "0          1  it is first and foremost a chick flick  it is ...  0.917392   \n",
       "1          1  i'm guessing that we all  no matter if we are ...  0.623475   \n",
       "2          0  today i had a real craving for a scifi movie a...  0.004375   \n",
       "3          1  the kennel murder case starts off at a run and...  0.973507   \n",
       "4          1  one reason pixar has endured so well  and been...  0.985845   \n",
       "\n",
       "   ga_sentiment                                            ga_text  ga_probs  \\\n",
       "0             0  it is first and foremost a chick flick it is a...  0.316359   \n",
       "1             0  i'm guessing that we all no matter if we are f...  0.368994   \n",
       "2             1  today i had a veritable craving for a scifi mo...  0.594624   \n",
       "3             0  the pounds murder lawsuit starts off at a run ...  0.131199   \n",
       "4             0  one reason pixar has experimented so well and ...  0.262389   \n",
       "\n",
       "   ga_num_changes  ga_lev_ratio ga_flipped_sentiment  \n",
       "0               0      0.915202                    N  \n",
       "1               0      0.977500                    N  \n",
       "2               0      0.925351                    N  \n",
       "3               0      0.879293                    N  \n",
       "4               0      0.963300                    N  "
      ]
     },
     "execution_count": 1917,
     "metadata": {},
     "output_type": "execute_result"
    }
   ],
   "source": [
    "import Levenshtein as lev\n",
    "\n",
    "# calculate Levenshtein ratio for text and ga_text\n",
    "# text == initial review text, ga_text == review text after GA Attack\n",
    "# value closer to 1.0 indicates more similarity, i.e. less changes made to original text\n",
    "for i in range (len(data_sample)):\n",
    "    data_sample.at[i,'ga_lev_ratio'] = lev.ratio(data_sample.at[i,'text'],data_sample.at[i,'ga_text'])\n",
    "    \n",
    "\n",
    "data_sample.head()\n"
   ]
  },
  {
   "cell_type": "markdown",
   "metadata": {},
   "source": [
    "### check which review we successfully flipped the sentiment and set ```ga_flipped_sentiment``` column"
   ]
  },
  {
   "cell_type": "code",
   "execution_count": 1945,
   "metadata": {},
   "outputs": [
    {
     "name": "stdout",
     "output_type": "stream",
     "text": [
      "Percentage of reviews where sentiment was changed after attack:  99.84 %\n"
     ]
    }
   ],
   "source": [
    "flipped_count = 0\n",
    "for i in range(len(data_sample)):\n",
    "    if  data_sample.at[i,'sentiment'] != data_sample.at[i,'ga_sentiment']:\n",
    "        data_sample.at[i,'ga_flipped_sentiment'] = 'Y'\n",
    "        flipped_count += 1\n",
    "print(\"Percentage of reviews where sentiment was changed after attack: \", round(flipped_count/len(data_sample) * 100, 2), \"%\")"
   ]
  },
  {
   "cell_type": "markdown",
   "metadata": {},
   "source": [
    "### make sure all reviews are of the same length before and after GA Attack\n",
    "i.e. make sure we didn't remove any words"
   ]
  },
  {
   "cell_type": "code",
   "execution_count": 1920,
   "metadata": {},
   "outputs": [
    {
     "name": "stdout",
     "output_type": "stream",
     "text": [
      "0\n"
     ]
    }
   ],
   "source": [
    "len_diff_count = 0\n",
    "# check to make sure no words were completely removed form reviews\n",
    "for i in range(len(data_sample)):\n",
    "    if  len(data_sample.at[i,'text'].split()) != len(data_sample.at[i,'ga_text'].split()):\n",
    "        len_diff_count += 1\n",
    "print(len_diff_count)"
   ]
  },
  {
   "cell_type": "markdown",
   "metadata": {},
   "source": [
    "### count how many words were changed for each review, average number of word changed and percentage of change to review"
   ]
  },
  {
   "cell_type": "code",
   "execution_count": 1963,
   "metadata": {},
   "outputs": [
    {
     "name": "stdout",
     "output_type": "stream",
     "text": [
      "Avg. num of words changed changes made:  18\n",
      "Avg. percentage modified:  10.0 %\n"
     ]
    }
   ],
   "source": [
    "word_total_count = 0\n",
    "percent_modified_total = 0.0\n",
    "for i in range(len(data_sample)):\n",
    "    review_before = data_sample.at[i,'text'].split()\n",
    "    review_after = data_sample.at[i,'ga_text'].split()\n",
    "    word_count = 0\n",
    "    for j in range(len(review_before)):\n",
    "        if review_before[j] == review_after[j]:\n",
    "            pass\n",
    "        else:\n",
    "            word_count += 1\n",
    "    data_sample.at[i, 'ga_num_changes'] = word_count\n",
    "    percent_modified_total += (word_count / len(review_before))\n",
    "    data_sample.at[i, 'ga_percent_change'] = round(word_count / len(review_before), 2)\n",
    "    word_total_count += word_count\n",
    "            \n",
    "data_sample.head()\n",
    "\n",
    "print(\"Avg. num of words changed changes made: \", (int)(word_total_count / len(data_sample)))\n",
    "print(\"Avg. percentage modified: \", (round(percent_modified_total / len(data_sample), 2) * 100),\"%\")\n",
    "      "
   ]
  },
  {
   "cell_type": "code",
   "execution_count": 1978,
   "metadata": {},
   "outputs": [
    {
     "name": "stdout",
     "output_type": "stream",
     "text": [
      "over\n"
     ]
    }
   ],
   "source": [
    "data_sample.head(20)\n",
    "if round(1 - (lev.ratio(data_sample.at[1,'text'],data_sample.at[1,'ga_text'])), 2) > 0.01:\n",
    "    print(\"over\")"
   ]
  },
  {
   "cell_type": "code",
   "execution_count": 1988,
   "metadata": {},
   "outputs": [
    {
     "name": "stdout",
     "output_type": "stream",
     "text": [
      "48\n",
      "0.922077922077922\n"
     ]
    }
   ],
   "source": [
    "over_20_percent = 1\n",
    "\n",
    "for i in range(len(data_sample)):\n",
    "    if data_sample.at[i,'ga_percent_change'] > 0.20:\n",
    "        over_20_percent += 1\n",
    "print(over_20_percent)\n",
    "\n",
    "print((len(data_sample) - over_20_percent)/len(data_sample))"
   ]
  },
  {
   "cell_type": "code",
   "execution_count": null,
   "metadata": {},
   "outputs": [],
   "source": []
  }
 ],
 "metadata": {
  "kernelspec": {
   "display_name": "Python 3",
   "language": "python",
   "name": "python3"
  },
  "language_info": {
   "codemirror_mode": {
    "name": "ipython",
    "version": 3
   },
   "file_extension": ".py",
   "mimetype": "text/x-python",
   "name": "python",
   "nbconvert_exporter": "python",
   "pygments_lexer": "ipython3",
   "version": "3.8.2"
  }
 },
 "nbformat": 4,
 "nbformat_minor": 4
}
